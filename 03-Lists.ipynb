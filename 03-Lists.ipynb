{
  "nbformat": 4,
  "nbformat_minor": 0,
  "metadata": {
    "jupytext": {
      "cell_metadata_json": true,
      "comment_magics": false,
      "formats": "py:light,notebooks//ipynb"
    },
    "kernelspec": {
      "display_name": "Python 3",
      "language": "python",
      "name": "python3"
    },
    "language_info": {
      "codemirror_mode": {
        "name": "ipython",
        "version": 3
      },
      "file_extension": ".py",
      "mimetype": "text/x-python",
      "name": "python",
      "nbconvert_exporter": "python",
      "pygments_lexer": "ipython3",
      "version": "3.8.5"
    },
    "colab": {
      "name": "03-Lists.ipynb",
      "provenance": []
    }
  },
  "cells": [
    {
      "cell_type": "markdown",
      "metadata": {
        "id": "p-TUpDp0-58_"
      },
      "source": [
        "# Python lists and tuples\n",
        "\n",
        "- List is the most versatile Python data type to group values with others\n",
        "- Can be written as a list of comma-separated values (items) between square brackets. \n",
        "- Tuples are written between parenthesis. They are read-only lists.\n",
        "- Lists can contain items of different types.\n",
        "- Like strings, lists can be indexed and sliced.\n",
        "- Lists also support operations like concatenation.\n"
      ]
    },
    {
      "cell_type": "markdown",
      "metadata": {
        "id": "JfhOu6nE-59C"
      },
      "source": [
        "## Indexing"
      ]
    },
    {
      "cell_type": "code",
      "metadata": {
        "execution": {
          "iopub.execute_input": "2020-09-12T13:29:12.745779Z",
          "iopub.status.busy": "2020-09-12T13:29:12.744869Z",
          "iopub.status.idle": "2020-09-12T13:29:12.748472Z",
          "shell.execute_reply": "2020-09-12T13:29:12.749090Z"
        },
        "id": "uUHMRSK0-59C",
        "outputId": "3a8d81bf-46b2-4506-f5a8-193eef352992"
      },
      "source": [
        "squares = [1, 4, 9, 16, 25]\n",
        "print(squares)"
      ],
      "execution_count": null,
      "outputs": [
        {
          "output_type": "stream",
          "text": [
            "[1, 4, 9, 16, 25]\n"
          ],
          "name": "stdout"
        }
      ]
    },
    {
      "cell_type": "code",
      "metadata": {
        "execution": {
          "iopub.execute_input": "2020-09-12T13:29:12.754254Z",
          "iopub.status.busy": "2020-09-12T13:29:12.753403Z",
          "iopub.status.idle": "2020-09-12T13:29:12.756788Z",
          "shell.execute_reply": "2020-09-12T13:29:12.757376Z"
        },
        "id": "MXkx5g-t-59E",
        "outputId": "b0c94f90-6400-4eff-84cc-6988aaa003e2"
      },
      "source": [
        "print(squares[0])  # indexing returns the item"
      ],
      "execution_count": null,
      "outputs": [
        {
          "output_type": "stream",
          "text": [
            "1\n"
          ],
          "name": "stdout"
        }
      ]
    },
    {
      "cell_type": "code",
      "metadata": {
        "execution": {
          "iopub.execute_input": "2020-09-12T13:29:12.769889Z",
          "iopub.status.busy": "2020-09-12T13:29:12.768834Z",
          "iopub.status.idle": "2020-09-12T13:29:12.772598Z",
          "shell.execute_reply": "2020-09-12T13:29:12.773214Z"
        },
        "id": "XTmwyPbr-59E",
        "outputId": "4c9814b8-7bd9-450b-b8c7-4f71c2c41f2b"
      },
      "source": [
        "squares[-1]"
      ],
      "execution_count": null,
      "outputs": [
        {
          "output_type": "execute_result",
          "data": {
            "text/plain": [
              "25"
            ]
          },
          "metadata": {
            "tags": []
          },
          "execution_count": 3
        }
      ]
    },
    {
      "cell_type": "code",
      "metadata": {
        "execution": {
          "iopub.execute_input": "2020-09-12T13:29:12.778543Z",
          "iopub.status.busy": "2020-09-12T13:29:12.777553Z",
          "iopub.status.idle": "2020-09-12T13:29:12.781187Z",
          "shell.execute_reply": "2020-09-12T13:29:12.781793Z"
        },
        "id": "loq0J4OX-59F",
        "outputId": "45369d74-ef53-44ba-bb5f-16faffa0f9d3"
      },
      "source": [
        "squares[-3:] # slicing returns a new list"
      ],
      "execution_count": null,
      "outputs": [
        {
          "output_type": "execute_result",
          "data": {
            "text/plain": [
              "[9, 16, 25]"
            ]
          },
          "metadata": {
            "tags": []
          },
          "execution_count": 4
        }
      ]
    },
    {
      "cell_type": "code",
      "metadata": {
        "execution": {
          "iopub.execute_input": "2020-09-12T13:29:12.787020Z",
          "iopub.status.busy": "2020-09-12T13:29:12.786015Z",
          "iopub.status.idle": "2020-09-12T13:29:12.789480Z",
          "shell.execute_reply": "2020-09-12T13:29:12.790070Z"
        },
        "id": "emEesyWb-59F",
        "outputId": "83ecaaa4-9ecf-4cf6-be2a-d2a9d3d4c796"
      },
      "source": [
        "squares += [36, 49, 64, 81, 100]\n",
        "print(squares)"
      ],
      "execution_count": null,
      "outputs": [
        {
          "output_type": "stream",
          "text": [
            "[1, 4, 9, 16, 25, 36, 49, 64, 81, 100]\n"
          ],
          "name": "stdout"
        }
      ]
    },
    {
      "cell_type": "markdown",
      "metadata": {
        "id": "PtvQEjWh-59G"
      },
      "source": [
        "- Unlike strings, which are immutable, lists are a mutable type."
      ]
    },
    {
      "cell_type": "code",
      "metadata": {
        "execution": {
          "iopub.execute_input": "2020-09-12T13:29:12.795701Z",
          "iopub.status.busy": "2020-09-12T13:29:12.794693Z",
          "iopub.status.idle": "2020-09-12T13:29:12.798023Z",
          "shell.execute_reply": "2020-09-12T13:29:12.798905Z"
        },
        "id": "mSajU-UJ-59G",
        "outputId": "70db5bcc-127b-4b3b-ae2b-f9d70c07f77b"
      },
      "source": [
        "cubes = [1, 8, 27, 65, 125]  # something's wrong here  \n",
        "cubes[3] = 64  # replace the wrong value, the cube of 4 is 64, not 65!\n",
        "print(cubes)"
      ],
      "execution_count": null,
      "outputs": [
        {
          "output_type": "stream",
          "text": [
            "[1, 8, 27, 64, 125]\n"
          ],
          "name": "stdout"
        }
      ]
    },
    {
      "cell_type": "code",
      "metadata": {
        "execution": {
          "iopub.execute_input": "2020-09-12T13:29:12.804054Z",
          "iopub.status.busy": "2020-09-12T13:29:12.803072Z",
          "iopub.status.idle": "2020-09-12T13:29:12.806388Z",
          "shell.execute_reply": "2020-09-12T13:29:12.806971Z"
        },
        "id": "wZxYTkvV-59G",
        "outputId": "16a94d23-0d58-4c24-88e1-67932a72e2da"
      },
      "source": [
        "cubes.append(216)  # add the cube of 6\n",
        "print(cubes)"
      ],
      "execution_count": null,
      "outputs": [
        {
          "output_type": "stream",
          "text": [
            "[1, 8, 27, 64, 125, 216]\n"
          ],
          "name": "stdout"
        }
      ]
    },
    {
      "cell_type": "code",
      "metadata": {
        "execution": {
          "iopub.execute_input": "2020-09-12T13:29:12.811662Z",
          "iopub.status.busy": "2020-09-12T13:29:12.810801Z",
          "iopub.status.idle": "2020-09-12T13:29:12.814099Z",
          "shell.execute_reply": "2020-09-12T13:29:12.814722Z"
        },
        "id": "BfcirXb2-59H",
        "outputId": "abc5d2eb-d518-4583-ce1c-edbf0f2b4c83"
      },
      "source": [
        "cubes.remove(1)\n",
        "print(cubes)"
      ],
      "execution_count": null,
      "outputs": [
        {
          "output_type": "stream",
          "text": [
            "[8, 27, 64, 125, 216]\n"
          ],
          "name": "stdout"
        }
      ]
    },
    {
      "cell_type": "markdown",
      "metadata": {
        "id": "zkojEQTs-59H"
      },
      "source": [
        "## Assignment \n",
        "\n",
        "- You can change the size of the list or clear it entirely.\n",
        "- The built-in function len() returns list size.\n",
        "- It is possible to create lists containing other lists."
      ]
    },
    {
      "cell_type": "code",
      "metadata": {
        "execution": {
          "iopub.execute_input": "2020-09-12T13:29:12.820266Z",
          "iopub.status.busy": "2020-09-12T13:29:12.819266Z",
          "iopub.status.idle": "2020-09-12T13:29:12.822565Z",
          "shell.execute_reply": "2020-09-12T13:29:12.823166Z"
        },
        "id": "Fg1ifcv5-59I",
        "outputId": "c647dc9d-5b42-4422-86bd-1954affab5e8"
      },
      "source": [
        "letters = ['a', 'b', 'c', 'd', 'e', 'f', 'g']\n",
        "letters[2:5] = ['C', 'D', 'E'] # replace some values\n",
        "print(letters)"
      ],
      "execution_count": null,
      "outputs": [
        {
          "output_type": "stream",
          "text": [
            "['a', 'b', 'C', 'D', 'E', 'f', 'g']\n"
          ],
          "name": "stdout"
        }
      ]
    },
    {
      "cell_type": "code",
      "metadata": {
        "execution": {
          "iopub.execute_input": "2020-09-12T13:29:12.828204Z",
          "iopub.status.busy": "2020-09-12T13:29:12.827288Z",
          "iopub.status.idle": "2020-09-12T13:29:12.830560Z",
          "shell.execute_reply": "2020-09-12T13:29:12.831184Z"
        },
        "id": "3PLOx3Xz-59I",
        "outputId": "17294741-0817-412a-a738-588af9b4444c"
      },
      "source": [
        "letters[2:5] = [] # now remove them\n",
        "print(letters)"
      ],
      "execution_count": null,
      "outputs": [
        {
          "output_type": "stream",
          "text": [
            "['a', 'b', 'f', 'g']\n"
          ],
          "name": "stdout"
        }
      ]
    },
    {
      "cell_type": "code",
      "metadata": {
        "execution": {
          "iopub.execute_input": "2020-09-12T13:29:12.836289Z",
          "iopub.status.busy": "2020-09-12T13:29:12.835444Z",
          "iopub.status.idle": "2020-09-12T13:29:12.838009Z",
          "shell.execute_reply": "2020-09-12T13:29:12.838730Z"
        },
        "id": "1JJ5G9wB-59I"
      },
      "source": [
        "a = ['a', 'b', 'c']\n",
        "n = [1, 2, 3]\n",
        "x = [a, n]"
      ],
      "execution_count": null,
      "outputs": []
    },
    {
      "cell_type": "code",
      "metadata": {
        "execution": {
          "iopub.execute_input": "2020-09-12T13:29:12.843836Z",
          "iopub.status.busy": "2020-09-12T13:29:12.842876Z",
          "iopub.status.idle": "2020-09-12T13:29:12.846357Z",
          "shell.execute_reply": "2020-09-12T13:29:12.847061Z"
        },
        "id": "8TVCyOs5-59J",
        "outputId": "72ee3deb-906d-434c-94ee-169566358c8b"
      },
      "source": [
        "x"
      ],
      "execution_count": null,
      "outputs": [
        {
          "output_type": "execute_result",
          "data": {
            "text/plain": [
              "[['a', 'b', 'c'], [1, 2, 3]]"
            ]
          },
          "metadata": {
            "tags": []
          },
          "execution_count": 12
        }
      ]
    },
    {
      "cell_type": "code",
      "metadata": {
        "execution": {
          "iopub.execute_input": "2020-09-12T13:29:12.852505Z",
          "iopub.status.busy": "2020-09-12T13:29:12.851527Z",
          "iopub.status.idle": "2020-09-12T13:29:12.855065Z",
          "shell.execute_reply": "2020-09-12T13:29:12.855676Z"
        },
        "id": "qC7SGbko-59J",
        "outputId": "ca40e187-8847-4825-c43a-4f29690ac8e4"
      },
      "source": [
        "x[0]"
      ],
      "execution_count": null,
      "outputs": [
        {
          "output_type": "execute_result",
          "data": {
            "text/plain": [
              "['a', 'b', 'c']"
            ]
          },
          "metadata": {
            "tags": []
          },
          "execution_count": 13
        }
      ]
    },
    {
      "cell_type": "code",
      "metadata": {
        "execution": {
          "iopub.execute_input": "2020-09-12T13:29:12.861181Z",
          "iopub.status.busy": "2020-09-12T13:29:12.860214Z",
          "iopub.status.idle": "2020-09-12T13:29:12.863580Z",
          "shell.execute_reply": "2020-09-12T13:29:12.864191Z"
        },
        "id": "6vCkQQ0_-59J",
        "outputId": "7d176b3e-dfcd-4e49-a332-4d8f0239bf21"
      },
      "source": [
        "x[0][1], len(x)"
      ],
      "execution_count": null,
      "outputs": [
        {
          "output_type": "execute_result",
          "data": {
            "text/plain": [
              "('b', 2)"
            ]
          },
          "metadata": {
            "tags": []
          },
          "execution_count": 14
        }
      ]
    },
    {
      "cell_type": "markdown",
      "metadata": {
        "id": "3yxjr783-59J"
      },
      "source": [
        "## Assignment, Copy and Reference"
      ]
    },
    {
      "cell_type": "code",
      "metadata": {
        "execution": {
          "iopub.execute_input": "2020-09-12T13:29:12.869398Z",
          "iopub.status.busy": "2020-09-12T13:29:12.868528Z",
          "iopub.status.idle": "2020-09-12T13:29:12.871666Z",
          "shell.execute_reply": "2020-09-12T13:29:12.872317Z"
        },
        "id": "7hAtJJ31-59K",
        "outputId": "ce420d00-e5ac-465c-a1ac-401301d631e6"
      },
      "source": [
        "a = [0, 1, 2, 3, 4]\n",
        "b = a\n",
        "print(\"b = \",b)"
      ],
      "execution_count": null,
      "outputs": [
        {
          "output_type": "stream",
          "text": [
            "b =  [0, 1, 2, 3, 4]\n"
          ],
          "name": "stdout"
        }
      ]
    },
    {
      "cell_type": "code",
      "metadata": {
        "execution": {
          "iopub.execute_input": "2020-09-12T13:29:12.877167Z",
          "iopub.status.busy": "2020-09-12T13:29:12.876246Z",
          "iopub.status.idle": "2020-09-12T13:29:12.879591Z",
          "shell.execute_reply": "2020-09-12T13:29:12.880297Z"
        },
        "id": "86q0TjE1-59K",
        "outputId": "650251ac-81d9-4305-8aab-4ac77ccd17d9"
      },
      "source": [
        "b[1] = 20        # Change one value in b\n",
        "print(\"a = \",a) # Y"
      ],
      "execution_count": null,
      "outputs": [
        {
          "output_type": "stream",
          "text": [
            "a =  [0, 20, 2, 3, 4]\n"
          ],
          "name": "stdout"
        }
      ]
    },
    {
      "cell_type": "markdown",
      "metadata": {
        "id": "qYjHq6GI-59L"
      },
      "source": [
        "**b is a reference to a, they occupy same space memory**"
      ]
    },
    {
      "cell_type": "code",
      "metadata": {
        "execution": {
          "iopub.execute_input": "2020-09-12T13:29:12.885869Z",
          "iopub.status.busy": "2020-09-12T13:29:12.884903Z",
          "iopub.status.idle": "2020-09-12T13:29:12.888204Z",
          "shell.execute_reply": "2020-09-12T13:29:12.888832Z"
        },
        "id": "usavM-5j-59L",
        "outputId": "b43ec7af-9e69-427e-c795-522b64145e39"
      },
      "source": [
        "b = a[:] # assign a slice of a and you create a new list\n",
        "b[2] = 10\n",
        "print(\"b = \",b)\n",
        "print(\"a = \",a)   "
      ],
      "execution_count": null,
      "outputs": [
        {
          "output_type": "stream",
          "text": [
            "b =  [0, 20, 10, 3, 4]\n",
            "a =  [0, 20, 2, 3, 4]\n"
          ],
          "name": "stdout"
        }
      ]
    },
    {
      "cell_type": "markdown",
      "metadata": {
        "id": "PJVdHNcJ-59L"
      },
      "source": [
        "## Some useful List Methods"
      ]
    },
    {
      "cell_type": "code",
      "metadata": {
        "execution": {
          "iopub.execute_input": "2020-09-12T13:29:12.894142Z",
          "iopub.status.busy": "2020-09-12T13:29:12.893229Z",
          "iopub.status.idle": "2020-09-12T13:29:12.896989Z",
          "shell.execute_reply": "2020-09-12T13:29:12.897631Z"
        },
        "id": "vZWBx2UJ-59M",
        "outputId": "94cce87c-4c44-478f-9a20-79d5045444c1"
      },
      "source": [
        "a = list(\"Python-2020\")\n",
        "a"
      ],
      "execution_count": null,
      "outputs": [
        {
          "output_type": "execute_result",
          "data": {
            "text/plain": [
              "['P', 'y', 't', 'h', 'o', 'n', '-', '2', '0', '2', '0']"
            ]
          },
          "metadata": {
            "tags": []
          },
          "execution_count": 18
        }
      ]
    },
    {
      "cell_type": "code",
      "metadata": {
        "execution": {
          "iopub.execute_input": "2020-09-12T13:29:12.902916Z",
          "iopub.status.busy": "2020-09-12T13:29:12.901969Z",
          "iopub.status.idle": "2020-09-12T13:29:12.905498Z",
          "shell.execute_reply": "2020-09-12T13:29:12.906111Z"
        },
        "id": "IjmcBun_-59M",
        "outputId": "aa373e5b-02b0-45b6-abc1-c4842bf1cc97"
      },
      "source": [
        "a.sort()\n",
        "a"
      ],
      "execution_count": null,
      "outputs": [
        {
          "output_type": "execute_result",
          "data": {
            "text/plain": [
              "['-', '0', '0', '2', '2', 'P', 'h', 'n', 'o', 't', 'y']"
            ]
          },
          "metadata": {
            "tags": []
          },
          "execution_count": 19
        }
      ]
    },
    {
      "cell_type": "code",
      "metadata": {
        "execution": {
          "iopub.execute_input": "2020-09-12T13:29:12.911751Z",
          "iopub.status.busy": "2020-09-12T13:29:12.910806Z",
          "iopub.status.idle": "2020-09-12T13:29:12.914179Z",
          "shell.execute_reply": "2020-09-12T13:29:12.914883Z"
        },
        "id": "XxbP0nTr-59M",
        "outputId": "2d22a0dc-59c7-4214-f46e-4a96d2ce229a"
      },
      "source": [
        "a.reverse()\n",
        "a"
      ],
      "execution_count": null,
      "outputs": [
        {
          "output_type": "execute_result",
          "data": {
            "text/plain": [
              "['y', 't', 'o', 'n', 'h', 'P', '2', '2', '0', '0', '-']"
            ]
          },
          "metadata": {
            "tags": []
          },
          "execution_count": 20
        }
      ]
    },
    {
      "cell_type": "code",
      "metadata": {
        "execution": {
          "iopub.execute_input": "2020-09-12T13:29:12.920278Z",
          "iopub.status.busy": "2020-09-12T13:29:12.919337Z",
          "iopub.status.idle": "2020-09-12T13:29:12.922958Z",
          "shell.execute_reply": "2020-09-12T13:29:12.923543Z"
        },
        "id": "18AY63et-59M",
        "outputId": "abac8115-54c7-4f41-bf73-e0dbce698821"
      },
      "source": [
        "a.pop() #pop the last item and remove it from the list\n",
        "a"
      ],
      "execution_count": null,
      "outputs": [
        {
          "output_type": "execute_result",
          "data": {
            "text/plain": [
              "['y', 't', 'o', 'n', 'h', 'P', '2', '2', '0', '0']"
            ]
          },
          "metadata": {
            "tags": []
          },
          "execution_count": 21
        }
      ]
    },
    {
      "cell_type": "markdown",
      "metadata": {
        "id": "S1bFoETK-59N"
      },
      "source": [
        "## Dictionary\n",
        "\n",
        "They are indexed by keys, which are often strings."
      ]
    },
    {
      "cell_type": "code",
      "metadata": {
        "execution": {
          "iopub.execute_input": "2020-09-12T13:29:12.928886Z",
          "iopub.status.busy": "2020-09-12T13:29:12.927923Z",
          "iopub.status.idle": "2020-09-12T13:29:12.930464Z",
          "shell.execute_reply": "2020-09-12T13:29:12.931068Z"
        },
        "id": "xBxmB9mn-59N"
      },
      "source": [
        "person = dict(firstname=\"John\", lastname=\"Smith\", email=\"john.doe@domain.fr\")\n",
        "person['size'] = 1.80\n",
        "person['weight'] = 70"
      ],
      "execution_count": null,
      "outputs": []
    },
    {
      "cell_type": "code",
      "metadata": {
        "execution": {
          "iopub.execute_input": "2020-09-12T13:29:12.936239Z",
          "iopub.status.busy": "2020-09-12T13:29:12.935230Z",
          "iopub.status.idle": "2020-09-12T13:29:12.938782Z",
          "shell.execute_reply": "2020-09-12T13:29:12.939389Z"
        },
        "id": "NnUP_W70-59N",
        "outputId": "3e27d08b-2d27-40bd-f277-764ba5a9527d"
      },
      "source": [
        "person"
      ],
      "execution_count": null,
      "outputs": [
        {
          "output_type": "execute_result",
          "data": {
            "text/plain": [
              "{'firstname': 'John',\n",
              " 'lastname': 'Smith',\n",
              " 'email': 'john.doe@domain.fr',\n",
              " 'size': 1.8,\n",
              " 'weight': 70}"
            ]
          },
          "metadata": {
            "tags": []
          },
          "execution_count": 23
        }
      ]
    },
    {
      "cell_type": "code",
      "metadata": {
        "execution": {
          "iopub.execute_input": "2020-09-12T13:29:12.944387Z",
          "iopub.status.busy": "2020-09-12T13:29:12.943432Z",
          "iopub.status.idle": "2020-09-12T13:29:12.946841Z",
          "shell.execute_reply": "2020-09-12T13:29:12.947482Z"
        },
        "id": "uZ1jgXew-59O",
        "outputId": "639349a8-ed83-49aa-9669-fe340e627e0b"
      },
      "source": [
        "print(person.keys())"
      ],
      "execution_count": null,
      "outputs": [
        {
          "output_type": "stream",
          "text": [
            "dict_keys(['firstname', 'lastname', 'email', 'size', 'weight'])\n"
          ],
          "name": "stdout"
        }
      ]
    },
    {
      "cell_type": "code",
      "metadata": {
        "execution": {
          "iopub.execute_input": "2020-09-12T13:29:12.952314Z",
          "iopub.status.busy": "2020-09-12T13:29:12.951453Z",
          "iopub.status.idle": "2020-09-12T13:29:12.954642Z",
          "shell.execute_reply": "2020-09-12T13:29:12.955291Z"
        },
        "id": "f0cQ3cH5-59O",
        "outputId": "68267f5e-6d42-4e66-acdb-8606cecc0060"
      },
      "source": [
        "print(person.items())"
      ],
      "execution_count": null,
      "outputs": [
        {
          "output_type": "stream",
          "text": [
            "dict_items([('firstname', 'John'), ('lastname', 'Smith'), ('email', 'john.doe@domain.fr'), ('size', 1.8), ('weight', 70)])\n"
          ],
          "name": "stdout"
        }
      ]
    },
    {
      "cell_type": "markdown",
      "metadata": {
        "id": "G7JtvZO3-59O"
      },
      "source": [
        "## Exercises\n",
        "\n",
        "- Split the string \"python ENSAI 2020\" into the list [\"python\",\"ENSAI\", 2020]\n",
        "- Insert \"september\" and value 7 before 2020 in the result list.\n",
        "- Capitalize the first item to \"Python\"\n",
        "- Create a dictionary with following keys (meeting, month, day, year)\n",
        "- Print out the items.\n",
        "- Append the key \"place\" to this dictionary and set the value to \"ENSAI\".\n",
        "```python\n",
        "['python', 'ENSAI', '2020']\n",
        "['python', 'ENSAI', 'september', 7, '2020']\n",
        "['Python', 'ENSAI', 'september', 7, '2020']\n",
        "{'course': 'Python','september': 'september','day': 7,'year': '2020','place': 'ENSAI'}\n",
        " ```"
      ]
    }
  ]
}