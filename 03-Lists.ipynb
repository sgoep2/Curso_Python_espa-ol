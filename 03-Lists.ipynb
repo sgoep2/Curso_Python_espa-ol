{
  "nbformat": 4,
  "nbformat_minor": 0,
  "metadata": {
    "jupytext": {
      "cell_metadata_json": true,
      "comment_magics": false,
      "formats": "py:light,notebooks//ipynb"
    },
    "kernelspec": {
      "display_name": "Python 3",
      "language": "python",
      "name": "python3"
    },
    "language_info": {
      "codemirror_mode": {
        "name": "ipython",
        "version": 3
      },
      "file_extension": ".py",
      "mimetype": "text/x-python",
      "name": "python",
      "nbconvert_exporter": "python",
      "pygments_lexer": "ipython3",
      "version": "3.8.5"
    },
    "colab": {
      "name": "03-Lists.ipynb",
      "provenance": [],
      "toc_visible": true
    }
  },
  "cells": [
    {
      "cell_type": "markdown",
      "metadata": {
        "id": "p-TUpDp0-58_"
      },
      "source": [
        "# Listas y tuplas de Python\n",
        "\n",
        "- La lista es el tipo de datos de Python más versátil para agrupar valores con otros\n",
        "- Puede escribirse como una lista de valores (elementos) separados por comas entre corchetes.\n",
        "- Las tuplas se escriben entre paréntesis. Son listas de solo lectura.\n",
        "- Las listas pueden contener elementos de diferentes tipos.\n",
        "- Al igual que las cadenas, las listas se pueden indexar y dividir.\n",
        "- Las listas también admiten operaciones como la concatenación.\n"
      ]
    },
    {
      "cell_type": "markdown",
      "metadata": {
        "id": "JfhOu6nE-59C"
      },
      "source": [
        "## Indexado"
      ]
    },
    {
      "cell_type": "code",
      "metadata": {
        "execution": {
          "iopub.execute_input": "2020-09-12T13:29:12.745779Z",
          "iopub.status.busy": "2020-09-12T13:29:12.744869Z",
          "iopub.status.idle": "2020-09-12T13:29:12.748472Z",
          "shell.execute_reply": "2020-09-12T13:29:12.749090Z"
        },
        "colab": {
          "base_uri": "https://localhost:8080/"
        },
        "id": "uUHMRSK0-59C",
        "outputId": "cbbd9100-6971-45b6-e4bc-99850b7a6ffd"
      },
      "source": [
        "squares = [1, 4, 9, 16, 25]\n",
        "print(squares)"
      ],
      "execution_count": 1,
      "outputs": [
        {
          "output_type": "stream",
          "text": [
            "[1, 4, 9, 16, 25]\n"
          ],
          "name": "stdout"
        }
      ]
    },
    {
      "cell_type": "code",
      "metadata": {
        "execution": {
          "iopub.execute_input": "2020-09-12T13:29:12.754254Z",
          "iopub.status.busy": "2020-09-12T13:29:12.753403Z",
          "iopub.status.idle": "2020-09-12T13:29:12.756788Z",
          "shell.execute_reply": "2020-09-12T13:29:12.757376Z"
        },
        "colab": {
          "base_uri": "https://localhost:8080/"
        },
        "id": "MXkx5g-t-59E",
        "outputId": "2271d90c-70d7-46a6-cd9d-3a81cb384f57"
      },
      "source": [
        "print(squares[0])  # la indexación devuelve el item"
      ],
      "execution_count": 2,
      "outputs": [
        {
          "output_type": "stream",
          "text": [
            "1\n"
          ],
          "name": "stdout"
        }
      ]
    },
    {
      "cell_type": "code",
      "metadata": {
        "execution": {
          "iopub.execute_input": "2020-09-12T13:29:12.769889Z",
          "iopub.status.busy": "2020-09-12T13:29:12.768834Z",
          "iopub.status.idle": "2020-09-12T13:29:12.772598Z",
          "shell.execute_reply": "2020-09-12T13:29:12.773214Z"
        },
        "colab": {
          "base_uri": "https://localhost:8080/"
        },
        "id": "XTmwyPbr-59E",
        "outputId": "1161d87f-669d-447d-fcda-3aeddb75bf16"
      },
      "source": [
        "squares[-1]"
      ],
      "execution_count": 3,
      "outputs": [
        {
          "output_type": "execute_result",
          "data": {
            "text/plain": [
              "25"
            ]
          },
          "metadata": {
            "tags": []
          },
          "execution_count": 3
        }
      ]
    },
    {
      "cell_type": "code",
      "metadata": {
        "execution": {
          "iopub.execute_input": "2020-09-12T13:29:12.778543Z",
          "iopub.status.busy": "2020-09-12T13:29:12.777553Z",
          "iopub.status.idle": "2020-09-12T13:29:12.781187Z",
          "shell.execute_reply": "2020-09-12T13:29:12.781793Z"
        },
        "colab": {
          "base_uri": "https://localhost:8080/"
        },
        "id": "loq0J4OX-59F",
        "outputId": "8d3f0164-97a6-44a1-aa5e-47551edfcace"
      },
      "source": [
        "squares[-3:] # un rango devuelve una nueva lista"
      ],
      "execution_count": 4,
      "outputs": [
        {
          "output_type": "execute_result",
          "data": {
            "text/plain": [
              "[9, 16, 25]"
            ]
          },
          "metadata": {
            "tags": []
          },
          "execution_count": 4
        }
      ]
    },
    {
      "cell_type": "code",
      "metadata": {
        "execution": {
          "iopub.execute_input": "2020-09-12T13:29:12.787020Z",
          "iopub.status.busy": "2020-09-12T13:29:12.786015Z",
          "iopub.status.idle": "2020-09-12T13:29:12.789480Z",
          "shell.execute_reply": "2020-09-12T13:29:12.790070Z"
        },
        "colab": {
          "base_uri": "https://localhost:8080/"
        },
        "id": "emEesyWb-59F",
        "outputId": "9360f5ac-eb91-4b09-bc04-6dd747cb27e4"
      },
      "source": [
        "squares += [36, 49, 64, 81, 100]\n",
        "print(squares)"
      ],
      "execution_count": 5,
      "outputs": [
        {
          "output_type": "stream",
          "text": [
            "[1, 4, 9, 16, 25, 36, 49, 64, 81, 100]\n"
          ],
          "name": "stdout"
        }
      ]
    },
    {
      "cell_type": "markdown",
      "metadata": {
        "id": "PtvQEjWh-59G"
      },
      "source": [
        "- A diferencia de las cadenas, que son inmutables, las listas son de tipo mutable."
      ]
    },
    {
      "cell_type": "code",
      "metadata": {
        "execution": {
          "iopub.execute_input": "2020-09-12T13:29:12.795701Z",
          "iopub.status.busy": "2020-09-12T13:29:12.794693Z",
          "iopub.status.idle": "2020-09-12T13:29:12.798023Z",
          "shell.execute_reply": "2020-09-12T13:29:12.798905Z"
        },
        "colab": {
          "base_uri": "https://localhost:8080/"
        },
        "id": "mSajU-UJ-59G",
        "outputId": "8615762a-698f-4c28-ad21-19755c5dffe7"
      },
      "source": [
        "cubes = [1, 8, 27, 65, 125]  # algo esta mal aqui\n",
        "cubes[3] = 64  # reemplace el valor incorrecto, el cubo de 4 es 64, ¡no 65!\n",
        "print(cubes)"
      ],
      "execution_count": 6,
      "outputs": [
        {
          "output_type": "stream",
          "text": [
            "[1, 8, 27, 64, 125]\n"
          ],
          "name": "stdout"
        }
      ]
    },
    {
      "cell_type": "code",
      "metadata": {
        "execution": {
          "iopub.execute_input": "2020-09-12T13:29:12.804054Z",
          "iopub.status.busy": "2020-09-12T13:29:12.803072Z",
          "iopub.status.idle": "2020-09-12T13:29:12.806388Z",
          "shell.execute_reply": "2020-09-12T13:29:12.806971Z"
        },
        "colab": {
          "base_uri": "https://localhost:8080/"
        },
        "id": "wZxYTkvV-59G",
        "outputId": "ff0f19c6-f1be-40ac-b0ae-5db82efe3573"
      },
      "source": [
        "cubes.append(216)  # agrega el cubo de 6\n",
        "print(cubes)"
      ],
      "execution_count": 7,
      "outputs": [
        {
          "output_type": "stream",
          "text": [
            "[1, 8, 27, 64, 125, 216]\n"
          ],
          "name": "stdout"
        }
      ]
    },
    {
      "cell_type": "code",
      "metadata": {
        "execution": {
          "iopub.execute_input": "2020-09-12T13:29:12.811662Z",
          "iopub.status.busy": "2020-09-12T13:29:12.810801Z",
          "iopub.status.idle": "2020-09-12T13:29:12.814099Z",
          "shell.execute_reply": "2020-09-12T13:29:12.814722Z"
        },
        "colab": {
          "base_uri": "https://localhost:8080/"
        },
        "id": "BfcirXb2-59H",
        "outputId": "e6d16986-da22-4971-b29c-594188689086"
      },
      "source": [
        "cubes.remove(1)\n",
        "print(cubes)"
      ],
      "execution_count": 8,
      "outputs": [
        {
          "output_type": "stream",
          "text": [
            "[8, 27, 64, 125, 216]\n"
          ],
          "name": "stdout"
        }
      ]
    },
    {
      "cell_type": "markdown",
      "metadata": {
        "id": "zkojEQTs-59H"
      },
      "source": [
        "## Asignación\n",
        "\n",
        "- Puede cambiar el tamaño de la lista o borrarla por completo.\n",
        "- La función incorporada len () devuelve el tamaño de la lista.\n",
        "- Es posible crear listas que contengan otras listas."
      ]
    },
    {
      "cell_type": "code",
      "metadata": {
        "execution": {
          "iopub.execute_input": "2020-09-12T13:29:12.820266Z",
          "iopub.status.busy": "2020-09-12T13:29:12.819266Z",
          "iopub.status.idle": "2020-09-12T13:29:12.822565Z",
          "shell.execute_reply": "2020-09-12T13:29:12.823166Z"
        },
        "colab": {
          "base_uri": "https://localhost:8080/"
        },
        "id": "Fg1ifcv5-59I",
        "outputId": "4c911c4d-bc24-4e3c-e3a0-1358f42ec4a5"
      },
      "source": [
        "letters = ['a', 'b', 'c', 'd', 'e', 'f', 'g']\n",
        "letters[2:5] = ['C', 'D', 'E'] # cambia algunos valores\n",
        "print(letters)"
      ],
      "execution_count": 9,
      "outputs": [
        {
          "output_type": "stream",
          "text": [
            "['a', 'b', 'C', 'D', 'E', 'f', 'g']\n"
          ],
          "name": "stdout"
        }
      ]
    },
    {
      "cell_type": "code",
      "metadata": {
        "execution": {
          "iopub.execute_input": "2020-09-12T13:29:12.828204Z",
          "iopub.status.busy": "2020-09-12T13:29:12.827288Z",
          "iopub.status.idle": "2020-09-12T13:29:12.830560Z",
          "shell.execute_reply": "2020-09-12T13:29:12.831184Z"
        },
        "colab": {
          "base_uri": "https://localhost:8080/"
        },
        "id": "3PLOx3Xz-59I",
        "outputId": "936242e2-0e09-4b94-e3b9-88d0987f4910"
      },
      "source": [
        "letters[2:5] = [] # ahora los quita\n",
        "print(letters)"
      ],
      "execution_count": 10,
      "outputs": [
        {
          "output_type": "stream",
          "text": [
            "['a', 'b', 'f', 'g']\n"
          ],
          "name": "stdout"
        }
      ]
    },
    {
      "cell_type": "code",
      "metadata": {
        "execution": {
          "iopub.execute_input": "2020-09-12T13:29:12.836289Z",
          "iopub.status.busy": "2020-09-12T13:29:12.835444Z",
          "iopub.status.idle": "2020-09-12T13:29:12.838009Z",
          "shell.execute_reply": "2020-09-12T13:29:12.838730Z"
        },
        "id": "1JJ5G9wB-59I"
      },
      "source": [
        "a = ['a', 'b', 'c']\n",
        "n = [1, 2, 3]\n",
        "x = [a, n]"
      ],
      "execution_count": 11,
      "outputs": []
    },
    {
      "cell_type": "code",
      "metadata": {
        "execution": {
          "iopub.execute_input": "2020-09-12T13:29:12.843836Z",
          "iopub.status.busy": "2020-09-12T13:29:12.842876Z",
          "iopub.status.idle": "2020-09-12T13:29:12.846357Z",
          "shell.execute_reply": "2020-09-12T13:29:12.847061Z"
        },
        "colab": {
          "base_uri": "https://localhost:8080/"
        },
        "id": "8TVCyOs5-59J",
        "outputId": "15ac247d-ca33-4a3f-f8b4-8477cad7bebc"
      },
      "source": [
        "x"
      ],
      "execution_count": 12,
      "outputs": [
        {
          "output_type": "execute_result",
          "data": {
            "text/plain": [
              "[['a', 'b', 'c'], [1, 2, 3]]"
            ]
          },
          "metadata": {
            "tags": []
          },
          "execution_count": 12
        }
      ]
    },
    {
      "cell_type": "code",
      "metadata": {
        "execution": {
          "iopub.execute_input": "2020-09-12T13:29:12.852505Z",
          "iopub.status.busy": "2020-09-12T13:29:12.851527Z",
          "iopub.status.idle": "2020-09-12T13:29:12.855065Z",
          "shell.execute_reply": "2020-09-12T13:29:12.855676Z"
        },
        "colab": {
          "base_uri": "https://localhost:8080/"
        },
        "id": "qC7SGbko-59J",
        "outputId": "91dfb4b6-7603-4c7c-a02c-40de1f1d92b0"
      },
      "source": [
        "x[0]"
      ],
      "execution_count": 13,
      "outputs": [
        {
          "output_type": "execute_result",
          "data": {
            "text/plain": [
              "['a', 'b', 'c']"
            ]
          },
          "metadata": {
            "tags": []
          },
          "execution_count": 13
        }
      ]
    },
    {
      "cell_type": "code",
      "metadata": {
        "execution": {
          "iopub.execute_input": "2020-09-12T13:29:12.861181Z",
          "iopub.status.busy": "2020-09-12T13:29:12.860214Z",
          "iopub.status.idle": "2020-09-12T13:29:12.863580Z",
          "shell.execute_reply": "2020-09-12T13:29:12.864191Z"
        },
        "colab": {
          "base_uri": "https://localhost:8080/"
        },
        "id": "6vCkQQ0_-59J",
        "outputId": "f92d69a4-db01-4c55-a468-3192b155b6b3"
      },
      "source": [
        "x[0][1], len(x)"
      ],
      "execution_count": 14,
      "outputs": [
        {
          "output_type": "execute_result",
          "data": {
            "text/plain": [
              "('b', 2)"
            ]
          },
          "metadata": {
            "tags": []
          },
          "execution_count": 14
        }
      ]
    },
    {
      "cell_type": "markdown",
      "metadata": {
        "id": "3yxjr783-59J"
      },
      "source": [
        "## Asignación, copia y referencia"
      ]
    },
    {
      "cell_type": "code",
      "metadata": {
        "execution": {
          "iopub.execute_input": "2020-09-12T13:29:12.869398Z",
          "iopub.status.busy": "2020-09-12T13:29:12.868528Z",
          "iopub.status.idle": "2020-09-12T13:29:12.871666Z",
          "shell.execute_reply": "2020-09-12T13:29:12.872317Z"
        },
        "colab": {
          "base_uri": "https://localhost:8080/"
        },
        "id": "7hAtJJ31-59K",
        "outputId": "71661dfe-0c0b-4a74-88a2-f0dc61ad7a7f"
      },
      "source": [
        "a = [0, 1, 2, 3, 4]\n",
        "b = a\n",
        "print(\"b = \",b)"
      ],
      "execution_count": 15,
      "outputs": [
        {
          "output_type": "stream",
          "text": [
            "b =  [0, 1, 2, 3, 4]\n"
          ],
          "name": "stdout"
        }
      ]
    },
    {
      "cell_type": "code",
      "metadata": {
        "execution": {
          "iopub.execute_input": "2020-09-12T13:29:12.877167Z",
          "iopub.status.busy": "2020-09-12T13:29:12.876246Z",
          "iopub.status.idle": "2020-09-12T13:29:12.879591Z",
          "shell.execute_reply": "2020-09-12T13:29:12.880297Z"
        },
        "colab": {
          "base_uri": "https://localhost:8080/"
        },
        "id": "86q0TjE1-59K",
        "outputId": "3361f770-983a-4810-8375-df8d575037ea"
      },
      "source": [
        "b[1] = 20        # cambia un valor en b\n",
        "print(\"a = \",a) # Y"
      ],
      "execution_count": 16,
      "outputs": [
        {
          "output_type": "stream",
          "text": [
            "a =  [0, 20, 2, 3, 4]\n"
          ],
          "name": "stdout"
        }
      ]
    },
    {
      "cell_type": "markdown",
      "metadata": {
        "id": "qYjHq6GI-59L"
      },
      "source": [
        "**b está referenciado a \"a\", entonces ocupa el mismo espacio de memoria**"
      ]
    },
    {
      "cell_type": "code",
      "metadata": {
        "execution": {
          "iopub.execute_input": "2020-09-12T13:29:12.885869Z",
          "iopub.status.busy": "2020-09-12T13:29:12.884903Z",
          "iopub.status.idle": "2020-09-12T13:29:12.888204Z",
          "shell.execute_reply": "2020-09-12T13:29:12.888832Z"
        },
        "colab": {
          "base_uri": "https://localhost:8080/"
        },
        "id": "usavM-5j-59L",
        "outputId": "158c7bd9-6256-461d-9135-38e45fd14e19"
      },
      "source": [
        "b = a[:] # asigna una porción de a y creas una nueva lista\n",
        "b[2] = 10\n",
        "print(\"b = \",b)\n",
        "print(\"a = \",a)   "
      ],
      "execution_count": 17,
      "outputs": [
        {
          "output_type": "stream",
          "text": [
            "b =  [0, 20, 10, 3, 4]\n",
            "a =  [0, 20, 2, 3, 4]\n"
          ],
          "name": "stdout"
        }
      ]
    },
    {
      "cell_type": "markdown",
      "metadata": {
        "id": "PJVdHNcJ-59L"
      },
      "source": [
        "## Algunos métodos de lista útiles"
      ]
    },
    {
      "cell_type": "code",
      "metadata": {
        "execution": {
          "iopub.execute_input": "2020-09-12T13:29:12.894142Z",
          "iopub.status.busy": "2020-09-12T13:29:12.893229Z",
          "iopub.status.idle": "2020-09-12T13:29:12.896989Z",
          "shell.execute_reply": "2020-09-12T13:29:12.897631Z"
        },
        "colab": {
          "base_uri": "https://localhost:8080/"
        },
        "id": "vZWBx2UJ-59M",
        "outputId": "e9dcdc7f-6a75-486e-cbf2-c5059d77382c"
      },
      "source": [
        "a = list(\"Python-2020\")\n",
        "a"
      ],
      "execution_count": 18,
      "outputs": [
        {
          "output_type": "execute_result",
          "data": {
            "text/plain": [
              "['P', 'y', 't', 'h', 'o', 'n', '-', '2', '0', '2', '0']"
            ]
          },
          "metadata": {
            "tags": []
          },
          "execution_count": 18
        }
      ]
    },
    {
      "cell_type": "code",
      "metadata": {
        "execution": {
          "iopub.execute_input": "2020-09-12T13:29:12.902916Z",
          "iopub.status.busy": "2020-09-12T13:29:12.901969Z",
          "iopub.status.idle": "2020-09-12T13:29:12.905498Z",
          "shell.execute_reply": "2020-09-12T13:29:12.906111Z"
        },
        "colab": {
          "base_uri": "https://localhost:8080/"
        },
        "id": "IjmcBun_-59M",
        "outputId": "36cdc630-93fd-498a-f93e-2628218523f5"
      },
      "source": [
        "a.sort()\n",
        "a"
      ],
      "execution_count": 19,
      "outputs": [
        {
          "output_type": "execute_result",
          "data": {
            "text/plain": [
              "['-', '0', '0', '2', '2', 'P', 'h', 'n', 'o', 't', 'y']"
            ]
          },
          "metadata": {
            "tags": []
          },
          "execution_count": 19
        }
      ]
    },
    {
      "cell_type": "code",
      "metadata": {
        "execution": {
          "iopub.execute_input": "2020-09-12T13:29:12.911751Z",
          "iopub.status.busy": "2020-09-12T13:29:12.910806Z",
          "iopub.status.idle": "2020-09-12T13:29:12.914179Z",
          "shell.execute_reply": "2020-09-12T13:29:12.914883Z"
        },
        "colab": {
          "base_uri": "https://localhost:8080/"
        },
        "id": "XxbP0nTr-59M",
        "outputId": "a9f0e9a2-cb3c-4289-a77d-8cf8a0189230"
      },
      "source": [
        "a.reverse()\n",
        "a"
      ],
      "execution_count": 20,
      "outputs": [
        {
          "output_type": "execute_result",
          "data": {
            "text/plain": [
              "['y', 't', 'o', 'n', 'h', 'P', '2', '2', '0', '0', '-']"
            ]
          },
          "metadata": {
            "tags": []
          },
          "execution_count": 20
        }
      ]
    },
    {
      "cell_type": "code",
      "metadata": {
        "execution": {
          "iopub.execute_input": "2020-09-12T13:29:12.920278Z",
          "iopub.status.busy": "2020-09-12T13:29:12.919337Z",
          "iopub.status.idle": "2020-09-12T13:29:12.922958Z",
          "shell.execute_reply": "2020-09-12T13:29:12.923543Z"
        },
        "colab": {
          "base_uri": "https://localhost:8080/"
        },
        "id": "18AY63et-59M",
        "outputId": "c498c38a-9858-4cfa-f048-9c1d21525029"
      },
      "source": [
        "a.pop() #pop obtiene el último elemento y elimínelo de la lista\n",
        "a"
      ],
      "execution_count": 21,
      "outputs": [
        {
          "output_type": "execute_result",
          "data": {
            "text/plain": [
              "['y', 't', 'o', 'n', 'h', 'P', '2', '2', '0', '0']"
            ]
          },
          "metadata": {
            "tags": []
          },
          "execution_count": 21
        }
      ]
    },
    {
      "cell_type": "markdown",
      "metadata": {
        "id": "S1bFoETK-59N"
      },
      "source": [
        "## Diccionario\n",
        "\n",
        "Ellos están indexados por claves, que a menudo son cadenas."
      ]
    },
    {
      "cell_type": "code",
      "metadata": {
        "execution": {
          "iopub.execute_input": "2020-09-12T13:29:12.928886Z",
          "iopub.status.busy": "2020-09-12T13:29:12.927923Z",
          "iopub.status.idle": "2020-09-12T13:29:12.930464Z",
          "shell.execute_reply": "2020-09-12T13:29:12.931068Z"
        },
        "id": "xBxmB9mn-59N"
      },
      "source": [
        "person = dict(firstname=\"John\", lastname=\"Smith\", email=\"john.doe@domain.fr\")\n",
        "person['size'] = 1.80\n",
        "person['weight'] = 70"
      ],
      "execution_count": 22,
      "outputs": []
    },
    {
      "cell_type": "code",
      "metadata": {
        "execution": {
          "iopub.execute_input": "2020-09-12T13:29:12.936239Z",
          "iopub.status.busy": "2020-09-12T13:29:12.935230Z",
          "iopub.status.idle": "2020-09-12T13:29:12.938782Z",
          "shell.execute_reply": "2020-09-12T13:29:12.939389Z"
        },
        "colab": {
          "base_uri": "https://localhost:8080/"
        },
        "id": "NnUP_W70-59N",
        "outputId": "a021aa32-fe62-494d-8541-dc90d45b9c47"
      },
      "source": [
        "person"
      ],
      "execution_count": 23,
      "outputs": [
        {
          "output_type": "execute_result",
          "data": {
            "text/plain": [
              "{'email': 'john.doe@domain.fr',\n",
              " 'firstname': 'John',\n",
              " 'lastname': 'Smith',\n",
              " 'size': 1.8,\n",
              " 'weight': 70}"
            ]
          },
          "metadata": {
            "tags": []
          },
          "execution_count": 23
        }
      ]
    },
    {
      "cell_type": "code",
      "metadata": {
        "execution": {
          "iopub.execute_input": "2020-09-12T13:29:12.944387Z",
          "iopub.status.busy": "2020-09-12T13:29:12.943432Z",
          "iopub.status.idle": "2020-09-12T13:29:12.946841Z",
          "shell.execute_reply": "2020-09-12T13:29:12.947482Z"
        },
        "colab": {
          "base_uri": "https://localhost:8080/"
        },
        "id": "uZ1jgXew-59O",
        "outputId": "de154df3-8624-471c-febe-046c1b642926"
      },
      "source": [
        "print(person.keys())"
      ],
      "execution_count": 24,
      "outputs": [
        {
          "output_type": "stream",
          "text": [
            "dict_keys(['firstname', 'lastname', 'email', 'size', 'weight'])\n"
          ],
          "name": "stdout"
        }
      ]
    },
    {
      "cell_type": "code",
      "metadata": {
        "execution": {
          "iopub.execute_input": "2020-09-12T13:29:12.952314Z",
          "iopub.status.busy": "2020-09-12T13:29:12.951453Z",
          "iopub.status.idle": "2020-09-12T13:29:12.954642Z",
          "shell.execute_reply": "2020-09-12T13:29:12.955291Z"
        },
        "colab": {
          "base_uri": "https://localhost:8080/"
        },
        "id": "f0cQ3cH5-59O",
        "outputId": "21be0d57-b036-409d-ec69-76a8d1d01d09"
      },
      "source": [
        "print(person.items())"
      ],
      "execution_count": 26,
      "outputs": [
        {
          "output_type": "stream",
          "text": [
            "dict_items([('firstname', 'John'), ('lastname', 'Smith'), ('email', 'john.doe@domain.fr'), ('size', 1.8), ('weight', 70)])\n"
          ],
          "name": "stdout"
        }
      ]
    },
    {
      "cell_type": "markdown",
      "metadata": {
        "id": "G7JtvZO3-59O"
      },
      "source": [
        "## Ejercicios\n",
        "\n",
        "- Divida la cadena \"python ENSAI 2020\" en la lista\n",
        "[\"python\",\"ENSAI\", 2020]\n",
        "- Inserte \"september\" y el valor 7 antes de 2020 en la lista resultante.\n",
        "- Transforme en mayúsculas el primer item a \"Python\"\n",
        "- Cree un diccionario con las siguientes llaves (meeting, month, day, year)\n",
        "- Imprima los items.\n",
        "- Agregue la llave \"place\" a este diccionario y fije el valor a \"ENSAI\".\n",
        "```python\n",
        "['python', 'ENSAI', '2020']\n",
        "['python', 'ENSAI', 'september', 7, '2020']\n",
        "['Python', 'ENSAI', 'september', 7, '2020']\n",
        "{'course': 'Python','september': 'september','day': 7,'year': '2020','place': 'ENSAI'}\n",
        " ```"
      ]
    }
  ]
}