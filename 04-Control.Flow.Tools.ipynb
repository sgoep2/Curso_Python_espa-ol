{
  "nbformat": 4,
  "nbformat_minor": 0,
  "metadata": {
    "jupytext": {
      "cell_metadata_json": true,
      "comment_magics": false,
      "encoding": "# -*- coding: utf-8 -*-",
      "formats": "py:light,notebooks//ipynb"
    },
    "kernelspec": {
      "display_name": "Python 3",
      "language": "python",
      "name": "python3"
    },
    "language_info": {
      "codemirror_mode": {
        "name": "ipython",
        "version": 3
      },
      "file_extension": ".py",
      "mimetype": "text/x-python",
      "name": "python",
      "nbconvert_exporter": "python",
      "pygments_lexer": "ipython3",
      "version": "3.8.5"
    },
    "colab": {
      "name": "04-Control.Flow.Tools.ipynb",
      "provenance": []
    }
  },
  "cells": [
    {
      "cell_type": "markdown",
      "metadata": {
        "id": "V2PggNgaEB5t"
      },
      "source": [
        "# Herramientas de control de flujo"
      ]
    },
    {
      "cell_type": "markdown",
      "metadata": {
        "id": "vauVd7muEB5w"
      },
      "source": [
        "## loop While\n",
        "\n",
        "- No olvide el carácter ':'.\n",
        "- El cuerpo del bucle está indentado."
      ]
    },
    {
      "cell_type": "code",
      "metadata": {
        "execution": {
          "iopub.execute_input": "2020-09-12T13:29:14.468588Z",
          "iopub.status.busy": "2020-09-12T13:29:14.467648Z",
          "iopub.status.idle": "2020-09-12T13:29:14.471122Z",
          "shell.execute_reply": "2020-09-12T13:29:14.471838Z"
        },
        "id": "H_EJAGWeEB5x",
        "outputId": "78a59b9f-bb83-4f84-bf2a-59d520c3c1cd"
      },
      "source": [
        "# serie de Fibonacci:\n",
        "# la suma de dos elementos define el próximo\n",
        "a, b = 0, 1\n",
        "while b < 500:\n",
        "    a, b = b, a+b\n",
        "    print(round(b/a,5), end=\",\")"
      ],
      "execution_count": null,
      "outputs": [
        {
          "output_type": "stream",
          "text": [
            "1.0,2.0,1.5,1.66667,1.6,1.625,1.61538,1.61905,1.61765,1.61818,1.61798,1.61806,1.61803,1.61804,"
          ],
          "name": "stdout"
        }
      ]
    },
    {
      "cell_type": "markdown",
      "metadata": {
        "id": "HatzfqA2EB5y"
      },
      "source": [
        "## Sentencias `if`\n",
        "\n",
        "```python\n",
        "True, False, and, or, not, ==, is, !=, is not, >, >=, <, <=\n",
        "```\n",
        "\n"
      ]
    },
    {
      "cell_type": "code",
      "metadata": {
        "execution": {
          "iopub.execute_input": "2020-09-12T13:29:14.477934Z",
          "iopub.status.busy": "2020-09-12T13:29:14.477066Z",
          "iopub.status.idle": "2020-09-12T13:29:14.480455Z",
          "shell.execute_reply": "2020-09-12T13:29:14.481074Z"
        },
        "id": "QxDy_yWREB5z",
        "outputId": "66b4ecac-7d7f-43cd-c68e-4a6cf8024ae0"
      },
      "source": [
        "x = 42\n",
        "if x < 0:\n",
        "    x = 0\n",
        "    print('Negative changed to zero')\n",
        "elif x == 0:\n",
        "    print('Zero')\n",
        "elif x == 1:\n",
        "    print('Single')\n",
        "else:\n",
        "    print('More')"
      ],
      "execution_count": null,
      "outputs": [
        {
          "output_type": "stream",
          "text": [
            "More\n"
          ],
          "name": "stdout"
        }
      ]
    },
    {
      "cell_type": "markdown",
      "metadata": {
        "id": "c8VpbemuEB5z"
      },
      "source": [
        "Las sentencias switch o case no existen en Python."
      ]
    },
    {
      "cell_type": "markdown",
      "metadata": {
        "id": "oH6k_MVXEB5z"
      },
      "source": [
        "### Ejercicio [Collatz conjecture](https://en.wikipedia.org/wiki/Collatz_conjecture)\n",
        "\n",
        "Considere la siguiente operación en un entero positivo arbitrario:\n",
        "  - Si el número es par, divídelo por dos.\n",
        "  - Si el número es impar, triplícalo y suma uno.\n",
        "\n",
        "La conjetura es que no importa el valor inicial de este número entero, la secuencia siempre llegará a 1.\n",
        "  - Pruebe la conjetura de Collatz para n = 100000.\n",
        "  - ¿Cuántos pasos necesitas para llegar a 1?"
      ]
    },
    {
      "cell_type": "markdown",
      "metadata": {
        "id": "h5nBYGc4EB50"
      },
      "source": [
        "## Loop sobre un objeto iterable\n",
        "\n",
        "Usamos la instrucción for para recorrer un objeto iterable. Si lo usamos con una cadena, recorre sus caracteres.\n"
      ]
    },
    {
      "cell_type": "code",
      "metadata": {
        "execution": {
          "iopub.execute_input": "2020-09-12T13:29:14.485939Z",
          "iopub.status.busy": "2020-09-12T13:29:14.485077Z",
          "iopub.status.idle": "2020-09-12T13:29:14.489057Z",
          "shell.execute_reply": "2020-09-12T13:29:14.488446Z"
        },
        "id": "Vj3JkEb0EB50",
        "outputId": "8ba59cbc-0043-4c58-e7fa-fd63709e8e0a"
      },
      "source": [
        "for c in \"python\":\n",
        "    print(c)"
      ],
      "execution_count": null,
      "outputs": [
        {
          "output_type": "stream",
          "text": [
            "p\n",
            "y\n",
            "t\n",
            "h\n",
            "o\n",
            "n\n"
          ],
          "name": "stdout"
        }
      ]
    },
    {
      "cell_type": "code",
      "metadata": {
        "execution": {
          "iopub.execute_input": "2020-09-12T13:29:14.494295Z",
          "iopub.status.busy": "2020-09-12T13:29:14.493411Z",
          "iopub.status.idle": "2020-09-12T13:29:14.497306Z",
          "shell.execute_reply": "2020-09-12T13:29:14.496704Z"
        },
        "id": "hdWJndJLEB51",
        "outputId": "c9e79f8e-8494-4a9f-a97f-c5bc2b681012"
      },
      "source": [
        "for word in \"Python ENSAI september 7th 2020\".split(\" \"):\n",
        "    print(word, len(word))   "
      ],
      "execution_count": null,
      "outputs": [
        {
          "output_type": "stream",
          "text": [
            "Python 6\n",
            "ENSAI 5\n",
            "september 9\n",
            "7th 3\n",
            "2020 4\n"
          ],
          "name": "stdout"
        }
      ]
    },
    {
      "cell_type": "markdown",
      "metadata": {
        "id": "Pevr9yv-EB51"
      },
      "source": [
        "### Ejercicio: Anagrama\n",
        "\n",
        "Un anagrama es una palabra o frase formada reordenando las letras de una palabra o frase diferente, normalmente usando todas las letras originales exactamente una vez.\n",
        "\n",
        "Escriba un código que imprima verdadero si s1 es un anagrama de s2.\n",
        "Para hacerlo, elimine todos los caracteres presentes en ambas cadenas. Verifique si obtienes dos cadenas vacías.\n",
        "\n",
        "Hint: `s = s.replace(c,\"\",1)` removes the character `c` in string `s` one time.\n",
        "\n",
        "```python\n",
        "s1 = \"pascal obispo\"\n",
        "s2 = \"pablo picasso\"\n",
        "..\n",
        "True\n",
        "```"
      ]
    },
    {
      "cell_type": "markdown",
      "metadata": {
        "id": "v3qHQvvCEB52"
      },
      "source": [
        "## Loop con función de rango\n",
        "\n",
        "- Genera progresiones aritméticas\n",
        "- Es posible dejar que el rango comience en otro número o especificar un incremento diferente.\n",
        "- Desde Python 3, el objeto devuelto por `range ()` no devuelve una lista para ahorrar espacio en la memoria. `xrange` ya no existe.\n",
        "- Utilice la función list() para crearlo."
      ]
    },
    {
      "cell_type": "code",
      "metadata": {
        "execution": {
          "iopub.execute_input": "2020-09-12T13:29:14.510931Z",
          "iopub.status.busy": "2020-09-12T13:29:14.509656Z",
          "iopub.status.idle": "2020-09-12T13:29:14.513497Z",
          "shell.execute_reply": "2020-09-12T13:29:14.514125Z"
        },
        "id": "O1fAmHg4EB52",
        "outputId": "45b9f7fa-a048-4e43-c334-5d9b61c6b996"
      },
      "source": [
        "list(range(5))"
      ],
      "execution_count": null,
      "outputs": [
        {
          "output_type": "execute_result",
          "data": {
            "text/plain": [
              "[0, 1, 2, 3, 4]"
            ]
          },
          "metadata": {
            "tags": []
          },
          "execution_count": 5
        }
      ]
    },
    {
      "cell_type": "code",
      "metadata": {
        "execution": {
          "iopub.execute_input": "2020-09-12T13:29:14.519873Z",
          "iopub.status.busy": "2020-09-12T13:29:14.518878Z",
          "iopub.status.idle": "2020-09-12T13:29:14.522334Z",
          "shell.execute_reply": "2020-09-12T13:29:14.523025Z"
        },
        "id": "hpJ8N7x0EB53",
        "outputId": "39910ba5-f031-46f4-acff-b2bd0123f550"
      },
      "source": [
        "list(range(2, 5))"
      ],
      "execution_count": null,
      "outputs": [
        {
          "output_type": "execute_result",
          "data": {
            "text/plain": [
              "[2, 3, 4]"
            ]
          },
          "metadata": {
            "tags": []
          },
          "execution_count": 6
        }
      ]
    },
    {
      "cell_type": "code",
      "metadata": {
        "execution": {
          "iopub.execute_input": "2020-09-12T13:29:14.528555Z",
          "iopub.status.busy": "2020-09-12T13:29:14.527604Z",
          "iopub.status.idle": "2020-09-12T13:29:14.531825Z",
          "shell.execute_reply": "2020-09-12T13:29:14.531192Z"
        },
        "id": "HKYt5ihKEB53",
        "outputId": "6cf5b1c5-4a06-4ca8-f938-60c717d51556"
      },
      "source": [
        "list(range(-1, -5, -1))"
      ],
      "execution_count": null,
      "outputs": [
        {
          "output_type": "execute_result",
          "data": {
            "text/plain": [
              "[-1, -2, -3, -4]"
            ]
          },
          "metadata": {
            "tags": []
          },
          "execution_count": 7
        }
      ]
    },
    {
      "cell_type": "code",
      "metadata": {
        "execution": {
          "iopub.execute_input": "2020-09-12T13:29:14.536885Z",
          "iopub.status.busy": "2020-09-12T13:29:14.535974Z",
          "iopub.status.idle": "2020-09-12T13:29:14.539202Z",
          "shell.execute_reply": "2020-09-12T13:29:14.539818Z"
        },
        "id": "vD_-YN9_EB53",
        "outputId": "228e4463-5b6a-4a11-b0d5-99b46c3c1997"
      },
      "source": [
        "for i in range(5):\n",
        "    print(i, end=' ')"
      ],
      "execution_count": null,
      "outputs": [
        {
          "output_type": "stream",
          "text": [
            "0 1 2 3 4 "
          ],
          "name": "stdout"
        }
      ]
    },
    {
      "cell_type": "markdown",
      "metadata": {
        "id": "LW8L2BT5EB54"
      },
      "source": [
        "### Ejercicio exponencial\n",
        "\n",
        "- Escriba un código para calcular la constante matemática exponencial $e \\simeq 2.718281828459045$ usando la serie taylor desarrollada en 0 y sin importar módulos externos:\n",
        "\n",
        "$$ e \\simeq \\sum_{n=0}^{50} \\frac{1}{n!} $$"
      ]
    },
    {
      "cell_type": "markdown",
      "metadata": {
        "id": "EfydK3TKEB54"
      },
      "source": [
        "## Sentencia `break`."
      ]
    },
    {
      "cell_type": "code",
      "metadata": {
        "execution": {
          "iopub.execute_input": "2020-09-12T13:29:14.546406Z",
          "iopub.status.busy": "2020-09-12T13:29:14.545429Z",
          "iopub.status.idle": "2020-09-12T13:29:14.548856Z",
          "shell.execute_reply": "2020-09-12T13:29:14.549479Z"
        },
        "colab": {
          "base_uri": "https://localhost:8080/"
        },
        "id": "r2ob7Sb-EB54",
        "outputId": "b73722de-c688-4177-a265-943a882603b2"
      },
      "source": [
        "for n in range(2, 10):     # n = 2,3,4,5,6,7,8,9\n",
        "    for x in range(2, n):  # x = 2, ..., n-1\n",
        "        if n % x == 0:     # Devuelve el resto de la división (mod)\n",
        "            print(n, \" = \", x, \"*\", n//x)\n",
        "            break\n",
        "        else:\n",
        "            print(\"%d is a prime number\" % n)\n",
        "            break"
      ],
      "execution_count": 1,
      "outputs": [
        {
          "output_type": "stream",
          "text": [
            "3 is a prime number\n",
            "4  =  2 * 2\n",
            "5 is a prime number\n",
            "6  =  2 * 3\n",
            "7 is a prime number\n",
            "8  =  2 * 4\n",
            "9 is a prime number\n"
          ],
          "name": "stdout"
        }
      ]
    },
    {
      "cell_type": "markdown",
      "metadata": {
        "id": "pXA1SmHnEB55"
      },
      "source": [
        "###  Función `iter`"
      ]
    },
    {
      "cell_type": "code",
      "metadata": {
        "execution": {
          "iopub.execute_input": "2020-09-12T13:29:14.555184Z",
          "iopub.status.busy": "2020-09-12T13:29:14.554190Z",
          "iopub.status.idle": "2020-09-12T13:29:14.557597Z",
          "shell.execute_reply": "2020-09-12T13:29:14.558257Z"
        },
        "colab": {
          "base_uri": "https://localhost:8080/"
        },
        "id": "B0BaX-9oEB55",
        "outputId": "6db4d294-eef2-4548-fb0c-e663a7664b7b"
      },
      "source": [
        "course = \"\"\" Python september 7, 14 2020 ENSAI Rennes \"\"\".split()\n",
        "print(course)"
      ],
      "execution_count": 2,
      "outputs": [
        {
          "output_type": "stream",
          "text": [
            "['Python', 'september', '7,', '14', '2020', 'ENSAI', 'Rennes']\n"
          ],
          "name": "stdout"
        }
      ]
    },
    {
      "cell_type": "code",
      "metadata": {
        "execution": {
          "iopub.execute_input": "2020-09-12T13:29:14.563108Z",
          "iopub.status.busy": "2020-09-12T13:29:14.562257Z",
          "iopub.status.idle": "2020-09-12T13:29:14.565344Z",
          "shell.execute_reply": "2020-09-12T13:29:14.565966Z"
        },
        "colab": {
          "base_uri": "https://localhost:8080/"
        },
        "id": "S0A3gnMkEB55",
        "outputId": "560135da-7153-4e67-f5b4-098fa63f67fb"
      },
      "source": [
        "iterator = iter(course)\n",
        "print(iterator.__next__())"
      ],
      "execution_count": 3,
      "outputs": [
        {
          "output_type": "stream",
          "text": [
            "Python\n"
          ],
          "name": "stdout"
        }
      ]
    },
    {
      "cell_type": "code",
      "metadata": {
        "execution": {
          "iopub.execute_input": "2020-09-12T13:29:14.570761Z",
          "iopub.status.busy": "2020-09-12T13:29:14.569788Z",
          "iopub.status.idle": "2020-09-12T13:29:14.573163Z",
          "shell.execute_reply": "2020-09-12T13:29:14.573749Z"
        },
        "colab": {
          "base_uri": "https://localhost:8080/"
        },
        "id": "lRkuSMB5EB56",
        "outputId": "c6f1ffca-301a-4a14-b53e-913a8fd6ae33"
      },
      "source": [
        "print(iterator.__next__())"
      ],
      "execution_count": 4,
      "outputs": [
        {
          "output_type": "stream",
          "text": [
            "september\n"
          ],
          "name": "stdout"
        }
      ]
    },
    {
      "cell_type": "markdown",
      "metadata": {
        "id": "CwukPEtLEB56"
      },
      "source": [
        "## Definiendo una función: Sentencia `def`"
      ]
    },
    {
      "cell_type": "code",
      "metadata": {
        "execution": {
          "iopub.execute_input": "2020-09-12T13:29:14.579774Z",
          "iopub.status.busy": "2020-09-12T13:29:14.578850Z",
          "iopub.status.idle": "2020-09-12T13:29:14.582210Z",
          "shell.execute_reply": "2020-09-12T13:29:14.582794Z"
        },
        "colab": {
          "base_uri": "https://localhost:8080/"
        },
        "id": "5x0Um4cMEB56",
        "outputId": "1172c7ef-9d95-4d7c-ce31-6905df0a97ff"
      },
      "source": [
        "def is_palindromic(s):\n",
        "    \"Return True if the input sequence is a palindrome\"\n",
        "    return s == s[::-1]\n",
        "\n",
        "\n",
        "is_palindromic(\"kayak\")"
      ],
      "execution_count": 5,
      "outputs": [
        {
          "output_type": "execute_result",
          "data": {
            "text/plain": [
              "True"
            ]
          },
          "metadata": {
            "tags": []
          },
          "execution_count": 5
        }
      ]
    },
    {
      "cell_type": "markdown",
      "metadata": {
        "id": "8wkVEot3EB56"
      },
      "source": [
        "- El cuerpo del inicio de la función debe estar sangrado\n",
        "- Las funciones sin una declaración de retorno devuelven un valor llamado \"None\"."
      ]
    },
    {
      "cell_type": "code",
      "metadata": {
        "execution": {
          "iopub.execute_input": "2020-09-12T13:29:14.589109Z",
          "iopub.status.busy": "2020-09-12T13:29:14.588088Z",
          "iopub.status.idle": "2020-09-12T13:29:14.591652Z",
          "shell.execute_reply": "2020-09-12T13:29:14.592388Z"
        },
        "id": "_uiyNWcdEB57",
        "outputId": "e553bd46-bab8-4f3d-a503-7e445760b4bf"
      },
      "source": [
        "def fib(n):\n",
        "    \"\"\"Print a Fibonacci series up to n.\"\"\"\n",
        "    a, b = 0, 1\n",
        "    while a < n:\n",
        "         print(a, end=' ')  # the end optional argument is \\n by default\n",
        "         a, b = b, a+b\n",
        "    print(\"\\n\") # new line\n",
        "     \n",
        "result = fib(2000)\n",
        "print(result) # is None"
      ],
      "execution_count": null,
      "outputs": [
        {
          "output_type": "stream",
          "text": [
            "0 1 1 2 3 5 8 13 21 34 55 89 144 233 377 610 987 1597 \n",
            "\n",
            "None\n"
          ],
          "name": "stdout"
        }
      ]
    },
    {
      "cell_type": "markdown",
      "metadata": {
        "id": "gAYe6Q-LEB57"
      },
      "source": [
        "## Cadena de documentación\n",
        "- Es una buena práctica incluir cadenas de documentos en el código que escribe, así que conviértalo en un hábito."
      ]
    },
    {
      "cell_type": "code",
      "metadata": {
        "execution": {
          "iopub.execute_input": "2020-09-12T13:29:14.597757Z",
          "iopub.status.busy": "2020-09-12T13:29:14.596784Z",
          "iopub.status.idle": "2020-09-12T13:29:14.599998Z",
          "shell.execute_reply": "2020-09-12T13:29:14.600637Z"
        },
        "colab": {
          "base_uri": "https://localhost:8080/"
        },
        "id": "oSex6v5ZEB57",
        "outputId": "6275b6a5-b4b7-40eb-d2cc-268611fb1a85"
      },
      "source": [
        "def my_function( foo):\n",
        "     \"\"\"Do nothing, but document it.\n",
        "\n",
        "     No, really, it doesn't do anything.\n",
        "     \"\"\"\n",
        "     pass\n",
        "\n",
        "print(my_function.__doc__)"
      ],
      "execution_count": 6,
      "outputs": [
        {
          "output_type": "stream",
          "text": [
            "Do nothing, but document it.\n",
            "\n",
            "     No, really, it doesn't do anything.\n",
            "     \n"
          ],
          "name": "stdout"
        }
      ]
    },
    {
      "cell_type": "code",
      "metadata": {
        "execution": {
          "iopub.execute_input": "2020-09-12T13:29:14.606173Z",
          "iopub.status.busy": "2020-09-12T13:29:14.605214Z",
          "iopub.status.idle": "2020-09-12T13:29:14.608580Z",
          "shell.execute_reply": "2020-09-12T13:29:14.609204Z"
        },
        "colab": {
          "base_uri": "https://localhost:8080/"
        },
        "id": "Rl5Ax5dLEB58",
        "outputId": "fe300bde-1699-49fd-b183-2c2951fd07a6"
      },
      "source": [
        "help(my_function)"
      ],
      "execution_count": 7,
      "outputs": [
        {
          "output_type": "stream",
          "text": [
            "Help on function my_function in module __main__:\n",
            "\n",
            "my_function(foo)\n",
            "    Do nothing, but document it.\n",
            "    \n",
            "    No, really, it doesn't do anything.\n",
            "\n"
          ],
          "name": "stdout"
        }
      ]
    },
    {
      "cell_type": "markdown",
      "metadata": {
        "id": "qP3lkDp0EB58"
      },
      "source": [
        "## Valores de argumento predeterminados"
      ]
    },
    {
      "cell_type": "code",
      "metadata": {
        "execution": {
          "iopub.execute_input": "2020-09-12T13:29:14.614923Z",
          "iopub.status.busy": "2020-09-12T13:29:14.613940Z",
          "iopub.status.idle": "2020-09-12T13:29:14.617292Z",
          "shell.execute_reply": "2020-09-12T13:29:14.617924Z"
        },
        "id": "5m-8vEhQEB58",
        "outputId": "05771b32-c98e-4e93-8093-2dce02e0f8e3"
      },
      "source": [
        "def f(a,b=5):\n",
        "    return a+b\n",
        "\n",
        "print(f(1))\n",
        "print(f(b=\"a\",a=\"bc\"))"
      ],
      "execution_count": null,
      "outputs": [
        {
          "output_type": "stream",
          "text": [
            "6\n",
            "bca\n"
          ],
          "name": "stdout"
        }
      ]
    },
    {
      "cell_type": "markdown",
      "metadata": {
        "id": "w7pQ98qAEB59"
      },
      "source": [
        "**Advertencia importante **: el valor predeterminado se evalúa solo una vez."
      ]
    },
    {
      "cell_type": "code",
      "metadata": {
        "execution": {
          "iopub.execute_input": "2020-09-12T13:29:14.623182Z",
          "iopub.status.busy": "2020-09-12T13:29:14.622234Z",
          "iopub.status.idle": "2020-09-12T13:29:14.625560Z",
          "shell.execute_reply": "2020-09-12T13:29:14.626220Z"
        },
        "id": "p0P1-SAlEB59",
        "outputId": "22d6aa7e-2d8e-4c3d-ea43-12a71ff55409"
      },
      "source": [
        "def f(a, L=[]):\n",
        "    L.append(a)\n",
        "    return L\n",
        "\n",
        "print(f(1))"
      ],
      "execution_count": null,
      "outputs": [
        {
          "output_type": "stream",
          "text": [
            "[1]\n"
          ],
          "name": "stdout"
        }
      ]
    },
    {
      "cell_type": "code",
      "metadata": {
        "execution": {
          "iopub.execute_input": "2020-09-12T13:29:14.631229Z",
          "iopub.status.busy": "2020-09-12T13:29:14.630218Z",
          "iopub.status.idle": "2020-09-12T13:29:14.633463Z",
          "shell.execute_reply": "2020-09-12T13:29:14.634043Z"
        },
        "id": "aJ82m4W2EB59",
        "outputId": "5d5e43ba-37aa-4ff7-9693-8eceb2bf8229"
      },
      "source": [
        "print(f(2)) # L = [1]"
      ],
      "execution_count": null,
      "outputs": [
        {
          "output_type": "stream",
          "text": [
            "[1, 2]\n"
          ],
          "name": "stdout"
        }
      ]
    },
    {
      "cell_type": "code",
      "metadata": {
        "execution": {
          "iopub.execute_input": "2020-09-12T13:29:14.638655Z",
          "iopub.status.busy": "2020-09-12T13:29:14.637811Z",
          "iopub.status.idle": "2020-09-12T13:29:14.640777Z",
          "shell.execute_reply": "2020-09-12T13:29:14.641393Z"
        },
        "id": "yWHVHa1FEB5-",
        "outputId": "d07abb9b-a22e-4fff-fb3c-858a92386134"
      },
      "source": [
        "print(f(3)) # L = [1,2]"
      ],
      "execution_count": null,
      "outputs": [
        {
          "output_type": "stream",
          "text": [
            "[1, 2, 3]\n"
          ],
          "name": "stdout"
        }
      ]
    },
    {
      "cell_type": "markdown",
      "metadata": {
        "id": "GRRtXwBQEB5-"
      },
      "source": [
        "## Anotaciones de funciones\n",
        "\n",
        "Información de metadatos completamente opcional sobre los tipos utilizados por las funciones definidas por el usuario.\n",
        "Este tipo de anotaciones que cumplen con [PEP 484] (https://www.python.org/dev/peps/pep-0484/) podrían ser utilizadas estáticamente por [MyPy] (http://mypy-lang.org)."
      ]
    },
    {
      "cell_type": "code",
      "metadata": {
        "execution": {
          "iopub.execute_input": "2020-09-12T13:29:14.647791Z",
          "iopub.status.busy": "2020-09-12T13:29:14.646839Z",
          "iopub.status.idle": "2020-09-12T13:29:14.650180Z",
          "shell.execute_reply": "2020-09-12T13:29:14.650799Z"
        },
        "id": "igp2GCHdEB5-",
        "outputId": "c679f614-2560-4d0e-a46b-05b6d275d01a"
      },
      "source": [
        "def f(ham: str, eggs: str = 'eggs') -> str:\n",
        "     print(\"Annotations:\", f.__annotations__)\n",
        "     print(\"Arguments:\", ham, eggs)\n",
        "     return ham + ' and ' + eggs\n",
        "\n",
        "f('spam')\n",
        "help(f)\n",
        "print(f.__doc__)"
      ],
      "execution_count": null,
      "outputs": [
        {
          "output_type": "stream",
          "text": [
            "Annotations: {'ham': <class 'str'>, 'eggs': <class 'str'>, 'return': <class 'str'>}\n",
            "Arguments: spam eggs\n",
            "Help on function f in module __main__:\n",
            "\n",
            "f(ham: str, eggs: str = 'eggs') -> str\n",
            "\n",
            "None\n"
          ],
          "name": "stdout"
        }
      ]
    },
    {
      "cell_type": "markdown",
      "metadata": {
        "id": "8X_k6NZ0EB6A"
      },
      "source": [
        "## Listas de argumentos arbitrarios\n",
        "\n",
        "Los argumentos se pueden envolver en una tupla o una lista con la forma * args"
      ]
    },
    {
      "cell_type": "code",
      "metadata": {
        "execution": {
          "iopub.execute_input": "2020-09-12T13:29:14.656254Z",
          "iopub.status.busy": "2020-09-12T13:29:14.655363Z",
          "iopub.status.idle": "2020-09-12T13:29:14.658745Z",
          "shell.execute_reply": "2020-09-12T13:29:14.659364Z"
        },
        "id": "asYU71YPEB6A",
        "outputId": "69f74800-12d8-46c6-8808-0051b96ef3a5"
      },
      "source": [
        "def f(*args, sep=\" \"):\n",
        "    print (args)\n",
        "    return sep.join(args)\n",
        "\n",
        "print(f(\"big\",\"data\"))"
      ],
      "execution_count": null,
      "outputs": [
        {
          "output_type": "stream",
          "text": [
            "('big', 'data')\n",
            "big data\n"
          ],
          "name": "stdout"
        }
      ]
    },
    {
      "cell_type": "markdown",
      "metadata": {
        "id": "yQ3fu-bAEB6A"
      },
      "source": [
        "- Normalmente, estos argumentos variados serán los últimos en la lista de parámetros formales.\n",
        "- Todos los parámetros formales que aparecen después del parámetro * args son argumentos \"solo de palabras clave\"."
      ]
    },
    {
      "cell_type": "markdown",
      "metadata": {
        "id": "I5u38oH9EB6B"
      },
      "source": [
        "## Diccionario de argumentos de palabras clave (keywords)\n",
        "\n",
        "Un parámetro formal final de la forma **nombre recibe un diccionario."
      ]
    },
    {
      "cell_type": "code",
      "metadata": {
        "execution": {
          "iopub.execute_input": "2020-09-12T13:29:14.664908Z",
          "iopub.status.busy": "2020-09-12T13:29:14.664054Z",
          "iopub.status.idle": "2020-09-12T13:29:14.666369Z",
          "shell.execute_reply": "2020-09-12T13:29:14.667195Z"
        },
        "id": "O8zwvkocEB6B"
      },
      "source": [
        "def add_contact(kind, *args, **kwargs):\n",
        "    print(args)\n",
        "    print(\"-\" * 40)\n",
        "    for key, value in kwargs.items():\n",
        "        print(key, \":\", value)"
      ],
      "execution_count": null,
      "outputs": []
    },
    {
      "cell_type": "markdown",
      "metadata": {
        "id": "x2Vpo0A2EB6B"
      },
      "source": [
        "\\*name debe aparecer antes de \\*\\*name"
      ]
    },
    {
      "cell_type": "code",
      "metadata": {
        "execution": {
          "iopub.execute_input": "2020-09-12T13:29:14.672042Z",
          "iopub.status.busy": "2020-09-12T13:29:14.671191Z",
          "iopub.status.idle": "2020-09-12T13:29:14.674474Z",
          "shell.execute_reply": "2020-09-12T13:29:14.675093Z"
        },
        "id": "AFdzUms1EB6B",
        "outputId": "5928e9b9-6ce1-40b3-b528-74c2da06d97a"
      },
      "source": [
        "add_contact(\"John\", \"Smith\",\n",
        "           phone=\"555 8765\",\n",
        "           email=\"john.smith@python.org\")"
      ],
      "execution_count": null,
      "outputs": [
        {
          "output_type": "stream",
          "text": [
            "('Smith',)\n",
            "----------------------------------------\n",
            "phone : 555 8765\n",
            "email : john.smith@python.org\n"
          ],
          "name": "stdout"
        }
      ]
    },
    {
      "cell_type": "markdown",
      "metadata": {
        "id": "BqVjRP5sEB6C"
      },
      "source": [
        "## Expresiones lambda\n",
        "\n",
        "Las funciones Lambda se pueden utilizar siempre que se requieran objetos de función."
      ]
    },
    {
      "cell_type": "code",
      "metadata": {
        "execution": {
          "iopub.execute_input": "2020-09-12T13:29:14.680542Z",
          "iopub.status.busy": "2020-09-12T13:29:14.679524Z",
          "iopub.status.idle": "2020-09-12T13:29:14.683173Z",
          "shell.execute_reply": "2020-09-12T13:29:14.683772Z"
        },
        "colab": {
          "base_uri": "https://localhost:8080/"
        },
        "id": "MRTRgpZ1EB6C",
        "outputId": "cc14bb5d-59be-46b4-a2dc-9b65e8a61514"
      },
      "source": [
        "f = lambda x : 2 * x + 2\n",
        "f(3)"
      ],
      "execution_count": 8,
      "outputs": [
        {
          "output_type": "execute_result",
          "data": {
            "text/plain": [
              "8"
            ]
          },
          "metadata": {
            "tags": []
          },
          "execution_count": 8
        }
      ]
    },
    {
      "cell_type": "code",
      "metadata": {
        "execution": {
          "iopub.execute_input": "2020-09-12T13:29:14.689403Z",
          "iopub.status.busy": "2020-09-12T13:29:14.688394Z",
          "iopub.status.idle": "2020-09-12T13:29:14.691761Z",
          "shell.execute_reply": "2020-09-12T13:29:14.692349Z"
        },
        "colab": {
          "base_uri": "https://localhost:8080/"
        },
        "id": "wzQEw-QIEB6C",
        "outputId": "f928122a-9d8d-491f-bcb3-603059595968"
      },
      "source": [
        "taxicab_distance = lambda x_a,y_a,x_b,y_b: abs(x_b-x_a)+abs(y_b-y_a)\n",
        "print(taxicab_distance(3,4,7,2))"
      ],
      "execution_count": 9,
      "outputs": [
        {
          "output_type": "stream",
          "text": [
            "6\n"
          ],
          "name": "stdout"
        }
      ]
    },
    {
      "cell_type": "markdown",
      "metadata": {
        "id": "pvp4vOz_EB6C"
      },
      "source": [
        "Las funciones lambda pueden hacer referencia a variables del ámbito contenedor:\n",
        "\n"
      ]
    },
    {
      "cell_type": "code",
      "metadata": {
        "execution": {
          "iopub.execute_input": "2020-09-12T13:29:14.698323Z",
          "iopub.status.busy": "2020-09-12T13:29:14.697370Z",
          "iopub.status.idle": "2020-09-12T13:29:14.700970Z",
          "shell.execute_reply": "2020-09-12T13:29:14.701575Z"
        },
        "colab": {
          "base_uri": "https://localhost:8080/"
        },
        "id": "spD2_MrEEB6D",
        "outputId": "6249fb86-828c-4767-ae57-a186f4722fd6"
      },
      "source": [
        "def make_incrementor(n):\n",
        "    return lambda x: x + n\n",
        "\n",
        "f = make_incrementor(42)\n",
        "f(0),f(1)"
      ],
      "execution_count": 18,
      "outputs": [
        {
          "output_type": "execute_result",
          "data": {
            "text/plain": [
              "(42, 43)"
            ]
          },
          "metadata": {
            "tags": []
          },
          "execution_count": 18
        }
      ]
    },
    {
      "cell_type": "code",
      "metadata": {
        "id": "6UqIff2LbZzR",
        "outputId": "141dcc07-1fee-4019-e999-a1bdfea7e890",
        "colab": {
          "base_uri": "https://localhost:8080/"
        }
      },
      "source": [
        "f=make_incrementor(12)\n",
        "f(1)"
      ],
      "execution_count": 21,
      "outputs": [
        {
          "output_type": "execute_result",
          "data": {
            "text/plain": [
              "13"
            ]
          },
          "metadata": {
            "tags": []
          },
          "execution_count": 21
        }
      ]
    },
    {
      "cell_type": "markdown",
      "metadata": {
        "id": "R_MOODBYEB6D"
      },
      "source": [
        "## Desempaquetado de listas de argumentos\n",
        "Los argumentos ya están en una lista o tupla. Se pueden desempaquetar para una llamada de función.\n",
        "Por ejemplo, la función incorporada range () se llama con el operador * para descomprimir los argumentos de una lista:"
      ]
    },
    {
      "cell_type": "code",
      "metadata": {
        "execution": {
          "iopub.execute_input": "2020-09-12T13:29:14.708137Z",
          "iopub.status.busy": "2020-09-12T13:29:14.707192Z",
          "iopub.status.idle": "2020-09-12T13:29:14.710778Z",
          "shell.execute_reply": "2020-09-12T13:29:14.711390Z"
        },
        "id": "qiaA7H6tEB6D",
        "outputId": "d831623b-1e66-4756-c31c-871187c4e34a"
      },
      "source": [
        "def chessboard_distance(x_a, y_a, x_b, y_b):\n",
        "    \"\"\"\n",
        "    Compute the rectilinear distance between \n",
        "    point (x_a,y_a) and (x_b, y_b)\n",
        "    \"\"\"\n",
        "    return max(abs(x_b-x_a),abs(y_b-y_a))\n",
        "\n",
        "coordinates = [3,4,7,2] \n",
        "chessboard_distance(*coordinates)"
      ],
      "execution_count": null,
      "outputs": [
        {
          "output_type": "execute_result",
          "data": {
            "text/plain": [
              "4"
            ]
          },
          "metadata": {
            "tags": []
          },
          "execution_count": 28
        }
      ]
    },
    {
      "cell_type": "markdown",
      "metadata": {
        "id": "OMaXahw2EB6D"
      },
      "source": [
        "De la misma manera, los diccionarios pueden entregar argumentos de palabras clave con el operador **:"
      ]
    },
    {
      "cell_type": "code",
      "metadata": {
        "execution": {
          "iopub.execute_input": "2020-09-12T13:29:14.717694Z",
          "iopub.status.busy": "2020-09-12T13:29:14.716736Z",
          "iopub.status.idle": "2020-09-12T13:29:14.720051Z",
          "shell.execute_reply": "2020-09-12T13:29:14.720709Z"
        },
        "id": "q24pRNzXEB6E",
        "outputId": "043f7fe7-d8e5-420c-ed68-e0739202da24"
      },
      "source": [
        "def parrot(voltage, state='a stiff', action='voom'):\n",
        "     print(\"-- This parrot wouldn't\", action, end=' ')\n",
        "     print(\"if you put\", voltage, \"volts through it.\", end=' ')\n",
        "     print(\"E's\", state, \"!\")\n",
        "\n",
        "d = {\"voltage\": \"four million\", \"state\": \"bleedin' demised\", \"action\": \"VOOM\"}\n",
        "parrot(**d)"
      ],
      "execution_count": null,
      "outputs": [
        {
          "output_type": "stream",
          "text": [
            "-- This parrot wouldn't VOOM if you put four million volts through it. E's bleedin' demised !\n"
          ],
          "name": "stdout"
        }
      ]
    },
    {
      "cell_type": "markdown",
      "metadata": {
        "id": "AyXDGL1oEB6E"
      },
      "source": [
        "## Ejercicio: convertidor de tiempo\n",
        "Escribe 3 funciones para manipular horas y minutos:\n",
        "- Función minutos regresan minutos de (horas, minutos).\n",
        "- Función horas la función inversa que regresa (horas, minutos) de minutos.\n",
        "- Función add_time para sumar (hh1, mm1) y (hh2, mm2) dos parejas (horas, minutos). Se necesitan 2\n",
        "tuplas de longitud 2 como argumentos de entrada y devuelven la tupla (hh, mm).\n",
        "\n",
        "```python\n",
        "print(minutes(6,15)) # 375 \n",
        "print(minutes(7,46)) # 466 \n",
        "print(add_time((6,15),(7,46)) # (14,01)\n",
        "```"
      ]
    },
    {
      "cell_type": "markdown",
      "metadata": {
        "id": "GYxDvGntEB6E"
      },
      "source": [
        "## Alcance de las funciones\n",
        "\n",
        "- Todas las asignaciones de variables en una función almacenan el valor en la tabla de símbolos local.\n",
        "- A las variables globales no se les puede asignar directamente un valor dentro de una función (a menos que se mencionen en una declaración global).\n",
        "- El valor de la función se puede asignar a otro nombre que luego también se puede utilizar como función."
      ]
    },
    {
      "cell_type": "code",
      "metadata": {
        "execution": {
          "iopub.execute_input": "2020-09-12T13:29:14.726483Z",
          "iopub.status.busy": "2020-09-12T13:29:14.725492Z",
          "iopub.status.idle": "2020-09-12T13:29:14.728852Z",
          "shell.execute_reply": "2020-09-12T13:29:14.729458Z"
        },
        "id": "Tspw0XeFEB6E",
        "outputId": "0e973215-864d-42d5-f3b1-019baf80d4a2"
      },
      "source": [
        "pi = 1.\n",
        "def deg2rad(theta):\n",
        "    pi = 3.14\n",
        "    return theta * pi / 180.\n",
        "\n",
        "print(deg2rad(45))\n",
        "print(pi)"
      ],
      "execution_count": null,
      "outputs": [
        {
          "output_type": "stream",
          "text": [
            "0.785\n",
            "1.0\n"
          ],
          "name": "stdout"
        }
      ]
    },
    {
      "cell_type": "code",
      "metadata": {
        "execution": {
          "iopub.execute_input": "2020-09-12T13:29:14.735141Z",
          "iopub.status.busy": "2020-09-12T13:29:14.734168Z",
          "iopub.status.idle": "2020-09-12T13:29:14.737497Z",
          "shell.execute_reply": "2020-09-12T13:29:14.738084Z"
        },
        "id": "gfXxUh6PEB6F",
        "outputId": "1ccf5ef8-9f69-43ec-b63c-3ac1d4741a3f"
      },
      "source": [
        "def rad2deg(theta):\n",
        "    return theta*180./pi\n",
        "\n",
        "print(rad2deg(0.785))\n",
        "pi = 3.14\n",
        "print(rad2deg(0.785))"
      ],
      "execution_count": null,
      "outputs": [
        {
          "output_type": "stream",
          "text": [
            "141.3\n",
            "45.0\n"
          ],
          "name": "stdout"
        }
      ]
    },
    {
      "cell_type": "code",
      "metadata": {
        "execution": {
          "iopub.execute_input": "2020-09-12T13:29:14.743727Z",
          "iopub.status.busy": "2020-09-12T13:29:14.742711Z",
          "iopub.status.idle": "2020-09-12T13:29:14.746090Z",
          "shell.execute_reply": "2020-09-12T13:29:14.746694Z"
        },
        "id": "I3X3SKWdEB6F",
        "outputId": "2962c9b1-bc1d-4f7d-b371-d9287fdbdbca"
      },
      "source": [
        "def deg2rad(theta):\n",
        "    global pi\n",
        "    pi = 3.14\n",
        "    return theta * pi / 180\n",
        "\n",
        "pi = 1\n",
        "print(deg2rad(45))"
      ],
      "execution_count": null,
      "outputs": [
        {
          "output_type": "stream",
          "text": [
            "0.785\n"
          ],
          "name": "stdout"
        }
      ]
    },
    {
      "cell_type": "code",
      "metadata": {
        "execution": {
          "iopub.execute_input": "2020-09-12T13:29:14.751346Z",
          "iopub.status.busy": "2020-09-12T13:29:14.750485Z",
          "iopub.status.idle": "2020-09-12T13:29:14.753722Z",
          "shell.execute_reply": "2020-09-12T13:29:14.754333Z"
        },
        "id": "9pXISUC1EB6F",
        "outputId": "84b8a1f2-620c-4437-ed1f-84e70a0ae77f"
      },
      "source": [
        "print(pi)"
      ],
      "execution_count": null,
      "outputs": [
        {
          "output_type": "stream",
          "text": [
            "3.14\n"
          ],
          "name": "stdout"
        }
      ]
    },
    {
      "cell_type": "markdown",
      "metadata": {
        "id": "-efHtJa-EB6F"
      },
      "source": [
        "## Función `enumerate`"
      ]
    },
    {
      "cell_type": "code",
      "metadata": {
        "execution": {
          "iopub.execute_input": "2020-09-12T13:29:14.760310Z",
          "iopub.status.busy": "2020-09-12T13:29:14.759337Z",
          "iopub.status.idle": "2020-09-12T13:29:14.762770Z",
          "shell.execute_reply": "2020-09-12T13:29:14.763400Z"
        },
        "id": "31h8bf04EB6G",
        "outputId": "13da77e3-afa8-43bc-e6fb-eba98124bc0e"
      },
      "source": [
        "primes =  [1,2,3,5,7,11,13]\n",
        "for idx, ele in enumerate (primes):\n",
        "    print(idx, \" --- \", ele) "
      ],
      "execution_count": null,
      "outputs": [
        {
          "output_type": "stream",
          "text": [
            "0  ---  1\n",
            "1  ---  2\n",
            "2  ---  3\n",
            "3  ---  5\n",
            "4  ---  7\n",
            "5  ---  11\n",
            "6  ---  13\n"
          ],
          "name": "stdout"
        }
      ]
    },
    {
      "cell_type": "markdown",
      "metadata": {
        "id": "790OZ8INEB6G"
      },
      "source": [
        "### Ejercicio: cifrado César\n",
        "\n",
        "En criptografía, un cifrado César es una de las técnicas de cifrado más sencillas y conocidas. Es un tipo de cifrado de sustitución en el que cada letra del texto sin encriptar se reemplaza por una letra en un número fijo de posiciones en el alfabeto. Por ejemplo, con un desplazamiento a la izquierda de 3, D sería reemplazada por A, E se convertiría en B, y así sucesivamente.\n",
        "\n",
        "- Cree una función \"cifrado\" que tome el texto sin encriptar y el valor de la clave como argumentos y devuelva el texto cifrado.\n",
        "- Cree una función `simple` que tome el texto cifrado y el valor de la clave como argumentos que devuelvan el texto descifrado.\n"
      ]
    },
    {
      "cell_type": "markdown",
      "metadata": {
        "id": "v2ZBEVsJEB6G"
      },
      "source": [
        "## `zip` Función incorporada\n",
        "\n",
        "Bucle sobre secuencias simultáneamente."
      ]
    },
    {
      "cell_type": "code",
      "metadata": {
        "execution": {
          "iopub.execute_input": "2020-09-12T13:29:14.769720Z",
          "iopub.status.busy": "2020-09-12T13:29:14.768763Z",
          "iopub.status.idle": "2020-09-12T13:29:14.772110Z",
          "shell.execute_reply": "2020-09-12T13:29:14.772732Z"
        },
        "id": "dBHCO9I0EB6G",
        "outputId": "454bf0cf-7a55-4091-af73-110e6fbfadd8"
      },
      "source": [
        "L1 = [1, 2, 3]\n",
        "L2 = [4, 5, 6]\n",
        "\n",
        "for (x, y) in zip(L1, L2):\n",
        "    print (x, y, '--', x + y)"
      ],
      "execution_count": null,
      "outputs": [
        {
          "output_type": "stream",
          "text": [
            "1 4 -- 5\n",
            "2 5 -- 7\n",
            "3 6 -- 9\n"
          ],
          "name": "stdout"
        }
      ]
    },
    {
      "cell_type": "markdown",
      "metadata": {
        "id": "JGvOnCyFEB6H"
      },
      "source": [
        "<!-- #endregion -->"
      ]
    },
    {
      "cell_type": "markdown",
      "metadata": {
        "id": "rA4DkbkaEB6H"
      },
      "source": [
        "## List comprehension\n",
        "\n",
        "- Set or change values inside a list\n",
        "- Create list from function"
      ]
    },
    {
      "cell_type": "code",
      "metadata": {
        "execution": {
          "iopub.execute_input": "2020-09-12T13:29:14.779126Z",
          "iopub.status.busy": "2020-09-12T13:29:14.778120Z",
          "iopub.status.idle": "2020-09-12T13:29:14.781794Z",
          "shell.execute_reply": "2020-09-12T13:29:14.782541Z"
        },
        "id": "zZhhpqXREB6H",
        "outputId": "dff76406-c011-4a68-e3ce-545b8498ec92"
      },
      "source": [
        "lsingle = [1, 3, 9, 4]\n",
        "ldouble = []\n",
        "for k in lsingle:\n",
        "    ldouble.append(2*k)\n",
        "ldouble"
      ],
      "execution_count": null,
      "outputs": [
        {
          "output_type": "execute_result",
          "data": {
            "text/plain": [
              "[2, 6, 18, 8]"
            ]
          },
          "metadata": {
            "tags": []
          },
          "execution_count": 36
        }
      ]
    },
    {
      "cell_type": "code",
      "metadata": {
        "execution": {
          "iopub.execute_input": "2020-09-12T13:29:14.787771Z",
          "iopub.status.busy": "2020-09-12T13:29:14.786849Z",
          "iopub.status.idle": "2020-09-12T13:29:14.789666Z",
          "shell.execute_reply": "2020-09-12T13:29:14.790297Z"
        },
        "id": "1HveG9s6EB6H"
      },
      "source": [
        "ldouble = [k*2 for k in lsingle]"
      ],
      "execution_count": null,
      "outputs": []
    },
    {
      "cell_type": "code",
      "metadata": {
        "execution": {
          "iopub.execute_input": "2020-09-12T13:29:14.796013Z",
          "iopub.status.busy": "2020-09-12T13:29:14.795048Z",
          "iopub.status.idle": "2020-09-12T13:29:14.798669Z",
          "shell.execute_reply": "2020-09-12T13:29:14.799275Z"
        },
        "id": "lOY68TsEEB6H",
        "outputId": "ab7af63c-be29-459d-996f-128b7c192663"
      },
      "source": [
        "[n*n for n in range(1,10)]"
      ],
      "execution_count": null,
      "outputs": [
        {
          "output_type": "execute_result",
          "data": {
            "text/plain": [
              "[1, 4, 9, 16, 25, 36, 49, 64, 81]"
            ]
          },
          "metadata": {
            "tags": []
          },
          "execution_count": 38
        }
      ]
    },
    {
      "cell_type": "code",
      "metadata": {
        "execution": {
          "iopub.execute_input": "2020-09-12T13:29:14.804899Z",
          "iopub.status.busy": "2020-09-12T13:29:14.803997Z",
          "iopub.status.idle": "2020-09-12T13:29:14.807474Z",
          "shell.execute_reply": "2020-09-12T13:29:14.808076Z"
        },
        "id": "RKiOP_CrEB6I",
        "outputId": "27b0b93a-8039-4d0b-c7bb-8d651715daa6"
      },
      "source": [
        "[n*n for n in range(1,10) if n&1]"
      ],
      "execution_count": null,
      "outputs": [
        {
          "output_type": "execute_result",
          "data": {
            "text/plain": [
              "[1, 9, 25, 49, 81]"
            ]
          },
          "metadata": {
            "tags": []
          },
          "execution_count": 39
        }
      ]
    },
    {
      "cell_type": "code",
      "metadata": {
        "execution": {
          "iopub.execute_input": "2020-09-12T13:29:14.814006Z",
          "iopub.status.busy": "2020-09-12T13:29:14.813010Z",
          "iopub.status.idle": "2020-09-12T13:29:14.816599Z",
          "shell.execute_reply": "2020-09-12T13:29:14.817212Z"
        },
        "id": "_r6MAu5xEB6I",
        "outputId": "718f2a93-55a7-411c-83e6-49efc180ae91"
      },
      "source": [
        "[n+1 if n&1 else n//2 for n in range(1,10) ]"
      ],
      "execution_count": null,
      "outputs": [
        {
          "output_type": "execute_result",
          "data": {
            "text/plain": [
              "[2, 1, 4, 2, 6, 3, 8, 4, 10]"
            ]
          },
          "metadata": {
            "tags": []
          },
          "execution_count": 40
        }
      ]
    },
    {
      "cell_type": "markdown",
      "metadata": {
        "id": "s2wZEhL2EB6I"
      },
      "source": [
        "### Exercise\n",
        "\n",
        "Code a new version of cypher function using list comprehension. \n",
        "\n",
        "Hints: \n",
        "- `s = ''.join(L)` convert the characters list `L` into a string `s`.\n",
        "- `L.index(c)` return the index position of `c` in list `L` \n",
        "- `\"c\".islower()` and `\"C\".isupper()` return `True`"
      ]
    },
    {
      "cell_type": "markdown",
      "metadata": {
        "id": "OvF-xPf0EB6I"
      },
      "source": [
        "## `map` built-in function\n",
        "\n",
        "Apply a function over a sequence.\n"
      ]
    },
    {
      "cell_type": "code",
      "metadata": {
        "execution": {
          "iopub.execute_input": "2020-09-12T13:29:14.822218Z",
          "iopub.status.busy": "2020-09-12T13:29:14.821299Z",
          "iopub.status.idle": "2020-09-12T13:29:14.824322Z",
          "shell.execute_reply": "2020-09-12T13:29:14.825007Z"
        },
        "id": "uLULMVAiEB6I",
        "outputId": "a7dac708-78aa-4324-fb10-92bcfba3c999"
      },
      "source": [
        "res = map(hex,range(16))\n",
        "print(res)"
      ],
      "execution_count": null,
      "outputs": [
        {
          "output_type": "stream",
          "text": [
            "<map object at 0x10d690c10>\n"
          ],
          "name": "stdout"
        }
      ]
    },
    {
      "cell_type": "markdown",
      "metadata": {
        "id": "uPX-X4VaEB6J"
      },
      "source": [
        "Since Python 3.x, `map` process return an iterator. Save memory, and should make things go faster.\n",
        "Display result by using unpacking operator."
      ]
    },
    {
      "cell_type": "code",
      "metadata": {
        "execution": {
          "iopub.execute_input": "2020-09-12T13:29:14.830042Z",
          "iopub.status.busy": "2020-09-12T13:29:14.829095Z",
          "iopub.status.idle": "2020-09-12T13:29:14.832336Z",
          "shell.execute_reply": "2020-09-12T13:29:14.832957Z"
        },
        "id": "9eRN8mdUEB6J",
        "outputId": "fa3895d6-d831-463b-a4d0-2c10ce865ffb"
      },
      "source": [
        "print(*res)"
      ],
      "execution_count": null,
      "outputs": [
        {
          "output_type": "stream",
          "text": [
            "0x0 0x1 0x2 0x3 0x4 0x5 0x6 0x7 0x8 0x9 0xa 0xb 0xc 0xd 0xe 0xf\n"
          ],
          "name": "stdout"
        }
      ]
    },
    {
      "cell_type": "markdown",
      "metadata": {
        "id": "4QBHmJExEB6J"
      },
      "source": [
        "## `map` with user-defined function"
      ]
    },
    {
      "cell_type": "code",
      "metadata": {
        "execution": {
          "iopub.execute_input": "2020-09-12T13:29:14.838992Z",
          "iopub.status.busy": "2020-09-12T13:29:14.838098Z",
          "iopub.status.idle": "2020-09-12T13:29:14.841455Z",
          "shell.execute_reply": "2020-09-12T13:29:14.842072Z"
        },
        "id": "bi6bJ_CJEB6J",
        "outputId": "71422ffd-f3e2-4ef1-ab59-0dacb720ef23"
      },
      "source": [
        "def add(x,y):\n",
        "    return x+y\n",
        "\n",
        "L1 = [1, 2, 3]\n",
        "L2 = [4, 5, 6]\n",
        "print(*map(add,L1,L2))"
      ],
      "execution_count": null,
      "outputs": [
        {
          "output_type": "stream",
          "text": [
            "5 7 9\n"
          ],
          "name": "stdout"
        }
      ]
    },
    {
      "cell_type": "markdown",
      "metadata": {
        "id": "Hykjgq5tEB6K"
      },
      "source": [
        "- `map` is often faster than `for` loop"
      ]
    },
    {
      "cell_type": "code",
      "metadata": {
        "execution": {
          "iopub.execute_input": "2020-09-12T13:29:14.931326Z",
          "iopub.status.busy": "2020-09-12T13:29:14.884017Z",
          "iopub.status.idle": "2020-09-12T13:29:19.210242Z",
          "shell.execute_reply": "2020-09-12T13:29:19.210943Z"
        },
        "id": "HyjXlBhZEB6K",
        "outputId": "3d51fb1e-1e93-4224-b083-38c1f179c6f8"
      },
      "source": [
        "M = range(10000)\n",
        "f = lambda x: x**2\n",
        "%timeit lmap = list(map(f,M))"
      ],
      "execution_count": null,
      "outputs": [
        {
          "output_type": "stream",
          "text": [
            "5.32 ms ± 171 µs per loop (mean ± std. dev. of 7 runs, 100 loops each)\n"
          ],
          "name": "stdout"
        }
      ]
    },
    {
      "cell_type": "code",
      "metadata": {
        "execution": {
          "iopub.execute_input": "2020-09-12T13:29:19.300896Z",
          "iopub.status.busy": "2020-09-12T13:29:19.257945Z",
          "iopub.status.idle": "2020-09-12T13:29:23.898271Z",
          "shell.execute_reply": "2020-09-12T13:29:23.898900Z"
        },
        "id": "hxMsQZEhEB6K",
        "outputId": "a9ceac75-719a-4c43-85ea-151b07b8e4f8"
      },
      "source": [
        "M = range(10000)\n",
        "f = lambda x: x**2\n",
        "%timeit lfor = [f(m) for m in M]"
      ],
      "execution_count": null,
      "outputs": [
        {
          "output_type": "stream",
          "text": [
            "5.76 ms ± 54.3 µs per loop (mean ± std. dev. of 7 runs, 100 loops each)\n"
          ],
          "name": "stdout"
        }
      ]
    },
    {
      "cell_type": "markdown",
      "metadata": {
        "id": "R3qIHaUGEB6K"
      },
      "source": [
        "## filter\n",
        "creates a iterator of elements for which a function returns `True`. "
      ]
    },
    {
      "cell_type": "code",
      "metadata": {
        "execution": {
          "iopub.execute_input": "2020-09-12T13:29:23.904580Z",
          "iopub.status.busy": "2020-09-12T13:29:23.903570Z",
          "iopub.status.idle": "2020-09-12T13:29:23.907100Z",
          "shell.execute_reply": "2020-09-12T13:29:23.907718Z"
        },
        "id": "XnW76960EB6K",
        "outputId": "4c56094f-dd9c-4844-dfe3-3b7f7dfd134f"
      },
      "source": [
        "number_list = range(-5, 5)\n",
        "odd_numbers = filter(lambda x: x & 1 , number_list)\n",
        "print(*odd_numbers)"
      ],
      "execution_count": null,
      "outputs": [
        {
          "output_type": "stream",
          "text": [
            "-5 -3 -1 1 3\n"
          ],
          "name": "stdout"
        }
      ]
    },
    {
      "cell_type": "markdown",
      "metadata": {
        "id": "Qm827p0-EB6L"
      },
      "source": [
        "- As `map`, `filter` is often faster than `for` loop"
      ]
    },
    {
      "cell_type": "code",
      "metadata": {
        "execution": {
          "iopub.execute_input": "2020-09-12T13:29:23.996941Z",
          "iopub.status.busy": "2020-09-12T13:29:23.954183Z",
          "iopub.status.idle": "2020-09-12T13:29:26.399288Z",
          "shell.execute_reply": "2020-09-12T13:29:26.399922Z"
        },
        "id": "F1wqeJc5EB6L",
        "outputId": "5c4c9770-bb0c-44fe-d94f-9b4a80f42e4f"
      },
      "source": [
        "M = range(1000)\n",
        "f = lambda x: x % 3 == 0\n",
        "%timeit lmap = filter(f,M)"
      ],
      "execution_count": null,
      "outputs": [
        {
          "output_type": "stream",
          "text": [
            "303 ns ± 1.07 ns per loop (mean ± std. dev. of 7 runs, 1000000 loops each)\n"
          ],
          "name": "stdout"
        }
      ]
    },
    {
      "cell_type": "code",
      "metadata": {
        "execution": {
          "iopub.execute_input": "2020-09-12T13:29:26.490172Z",
          "iopub.status.busy": "2020-09-12T13:29:26.446338Z",
          "iopub.status.idle": "2020-09-12T13:29:30.541223Z",
          "shell.execute_reply": "2020-09-12T13:29:30.541897Z"
        },
        "id": "yH05aVebEB6L",
        "outputId": "8b9308a7-1b5d-446d-dba9-6e8fac17c936"
      },
      "source": [
        "M = range(1000)\n",
        "%timeit lfor = (m for m in M if m % 3 == 0)"
      ],
      "execution_count": null,
      "outputs": [
        {
          "output_type": "stream",
          "text": [
            "507 ns ± 5.03 ns per loop (mean ± std. dev. of 7 runs, 1000000 loops each)\n"
          ],
          "name": "stdout"
        }
      ]
    },
    {
      "cell_type": "markdown",
      "metadata": {
        "id": "dpqyqTAdEB6L"
      },
      "source": [
        "## Exercise with map:\n",
        "\n",
        "Code a new version of your cypher function using map. \n",
        "\n",
        "Hints: \n",
        "- Applied function must have only one argument, create a function called `shift` with the key value and use map."
      ]
    },
    {
      "cell_type": "markdown",
      "metadata": {
        "id": "_FVgGLHnEB6Q"
      },
      "source": [
        "## Exercise with filter:\n",
        "\n",
        "Create a function with a number n as single argument that returns True if n is a [Kaprekar number](https://en.wikipedia.org/wiki/Kaprekar_number). For example 45 is a Kaprekar number, because \n",
        "$$45^2 = 2025$$ \n",
        "and \n",
        "$$20 + 25 = 45$$\n",
        "\n",
        "Use `filter` to give Kaprekar numbers list lower than 10000.\n",
        "```\n",
        "1, 9, 45, 55, 99, 297, 703, 999, 2223, 2728, 4879, 4950, 5050, 5292, 7272, 7777, 9999\n",
        "```"
      ]
    },
    {
      "cell_type": "markdown",
      "metadata": {
        "id": "n-Vp2hz9EB6Q"
      },
      "source": [
        "## Recursive Call\n",
        "\n",
        "```python slideshow={\"slide_type\": \"fragment\"}\n",
        "def gcd(x, y): \n",
        "    \"\"\" returns the greatest common divisor.\"\"\"\n",
        "    if x == 0: \n",
        "        return y\n",
        "    else : \n",
        "        return gcd(y % x, x)\n",
        "\n",
        "gcd(12,16)\n",
        "```"
      ]
    },
    {
      "cell_type": "markdown",
      "metadata": {
        "id": "T8KWpoQbEB6Q"
      },
      "source": [
        "## Exercises"
      ]
    },
    {
      "cell_type": "markdown",
      "metadata": {
        "id": "C2ghtpDyEB6R"
      },
      "source": [
        "### Factorial\n",
        "\n",
        "- Write the function `factorial` with a recursive call\n",
        "\n",
        "NB: Recursion is not recommended by [Guido](http://neopythonic.blogspot.co.uk/2009/04/tail-recursion-elimination.html)."
      ]
    },
    {
      "cell_type": "markdown",
      "metadata": {
        "id": "izhLcN0KEB6R"
      },
      "source": [
        "### Minimum number of rooms required for lectures.\n",
        "\n",
        "Given an array of time intervals (start, end) for classroom lectures (possibly overlapping), find the minimum number of rooms required.\n",
        "\n",
        "For example, given Input: \n",
        "```python\n",
        "lectures = [\"9:00-10:30\", \"9:30-11:30\",\"11:00-12:00\",\"14:00-18:00\", \"15:00-16:00\", \"15:30-17:30\", \"16:00-18:00\"]\n",
        "```\n",
        "should output 3."
      ]
    },
    {
      "cell_type": "markdown",
      "metadata": {
        "id": "3gA3gshFEB6R"
      },
      "source": [
        "### [Non-palindromic skinny numbers](https://oeis.org/A035123)\n",
        "\n",
        "non-palindromic squares remaining square when written backwards\n",
        "\n",
        "$$\n",
        "\\begin{array}{lclclcl}\n",
        "10^2  &=& 100   &\\qquad& 01^2  &=& 001 \\\\\n",
        "13^2  &=& 169   &\\qquad& 31^2  &=& 961 \\\\\n",
        "102^2 &=& 10404 &\\qquad& 201^2 &=& 40401\n",
        "\\end{array}\n",
        "$$\n"
      ]
    },
    {
      "cell_type": "markdown",
      "metadata": {
        "id": "JYBO_QkDEB6R"
      },
      "source": [
        "### Narcissistic number\n",
        "\n",
        "A  number is narcissistic if the sum of its own digits each raised to the power of the number of digits. \n",
        "\n",
        "Example : $4150 = 4^5 + 1^5 + 5^5 + 0^5$ or $153 = 1^3 + 5^3 + 3^3$\n",
        "\n",
        "Find narcissitic numbers with 3 digits\n"
      ]
    },
    {
      "cell_type": "markdown",
      "metadata": {
        "id": "1Cq4S4tpEB6S"
      },
      "source": [
        "### Happy number\n",
        "\n",
        "- Given a number $n = n_0$, define a sequence $n_1, n_2,\\ldots$ where \n",
        "    $n_{{i+1}}$ is the sum of the squares of the digits of $n_{i}$. \n",
        "    Then $n$ is happy if and only if there exists i such that $n_{i}=1$.\n",
        "\n",
        "For example, 19 is happy, as the associated sequence is:\n",
        "$$\n",
        "\\begin{array}{ccccccl}\n",
        "1^2 &+& 9^2 & &     &=& 82 \\\\\n",
        "8^2 &+& 2^2 & &     &=& 68 \\\\\n",
        "6^2 &+& 8^2 & &     &=& 100 \\\\\n",
        "1^2 &+& 0^2 &+& 0^2 &=& 1\n",
        "\\end{array}\n",
        "$$\n",
        "- Write a function `ishappy(n)` that returns True if `n` is happy.\n",
        "- Write a function `happy(n)` that returns a list with all happy numbers < $n$.\n",
        "\n",
        "```python\n",
        "happy(100) = [1, 7, 10, 13, 19, 23, 28, 31, 32, 44, 49, 68, 70, 79, 82, 86, 91, 94, 97]\n",
        "```"
      ]
    },
    {
      "cell_type": "markdown",
      "metadata": {
        "id": "HDSoHVBREB6S"
      },
      "source": [
        "### Longuest increasing subsequence\n",
        "\n",
        "Given N elements, write a program that prints the length of the longuest increasing subsequence whose adjacent element difference is one.\n",
        "\n",
        "Examples:\n",
        "```\n",
        "a = [3, 10, 3, 11, 4, 5, 6, 7, 8, 12]\n",
        "Output : 6\n",
        "Explanation: 3, 4, 5, 6, 7, 8 is the longest increasing subsequence whose adjacent element differs by one.\n",
        "```\n",
        "```\n",
        "Input : a = [6, 7, 8, 3, 4, 5, 9, 10]\n",
        "Output : 5\n",
        "Explanation: 6, 7, 8, 9, 10 is the longest increasing subsequence\n",
        "```"
      ]
    },
    {
      "cell_type": "markdown",
      "metadata": {
        "id": "PArBJ83ZEB6S"
      },
      "source": [
        "### Polynomial derivative\n",
        "- A Polynomial is represented by a Python list of its coefficients.\n",
        "    [1,5,-4] => $1+5x-4x^2$\n",
        "- Write the function diff(P,n) that return the nth derivative Q\n",
        "- Don't use any external package 😉\n",
        "```\n",
        "diff([3,2,1,5,7],2) = [2, 30, 84]\n",
        "diff([-6,5,-3,-4,3,-4],3) = [-24, 72, -240]\n",
        "```"
      ]
    }
  ]
}